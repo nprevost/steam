{
 "cells": [
  {
   "cell_type": "code",
   "execution_count": 0,
   "metadata": {
    "application/vnd.databricks.v1+cell": {
     "cellMetadata": {
      "byteLimit": 2048000,
      "rowLimit": 10000
     },
     "inputWidgets": {},
     "nuid": "6f6f476a-3da0-47c9-ad23-d67cc023a628",
     "showTitle": false,
     "tableResultSettingsMap": {},
     "title": ""
    }
   },
   "outputs": [],
   "source": [
    "from pyspark.sql import functions as F\n",
    "from pyspark.sql.types import *"
   ]
  },
  {
   "cell_type": "code",
   "execution_count": 0,
   "metadata": {
    "application/vnd.databricks.v1+cell": {
     "cellMetadata": {
      "byteLimit": 2048000,
      "rowLimit": 10000
     },
     "inputWidgets": {},
     "nuid": "653bbf88-cf38-4520-93ce-a41ac77063bd",
     "showTitle": false,
     "tableResultSettingsMap": {},
     "title": ""
    }
   },
   "outputs": [],
   "source": [
    "spark\n",
    "sc = spark.sparkContext\n",
    "\n",
    "steam_rdd = sc.textFile(\"s3://full-stack-bigdata-datasets/Big_Data/Project_Steam/steam_game_output.json\")"
   ]
  },
  {
   "cell_type": "code",
   "execution_count": 0,
   "metadata": {
    "application/vnd.databricks.v1+cell": {
     "cellMetadata": {
      "byteLimit": 2048000,
      "rowLimit": 10000
     },
     "inputWidgets": {},
     "nuid": "222c1ac0-d58a-46d0-8908-350090229edd",
     "showTitle": false,
     "tableResultSettingsMap": {},
     "title": ""
    }
   },
   "outputs": [
    {
     "output_type": "stream",
     "name": "stdout",
     "output_type": "stream",
     "text": [
      "Out[17]: pyspark.rdd.RDD"
     ]
    }
   ],
   "source": [
    "type(steam_rdd)"
   ]
  },
  {
   "cell_type": "code",
   "execution_count": 0,
   "metadata": {
    "application/vnd.databricks.v1+cell": {
     "cellMetadata": {
      "byteLimit": 2048000,
      "rowLimit": 10000
     },
     "inputWidgets": {},
     "nuid": "0820035f-9f7a-479c-8815-0d6651b8b4e4",
     "showTitle": false,
     "tableResultSettingsMap": {},
     "title": ""
    }
   },
   "outputs": [
    {
     "output_type": "stream",
     "name": "stdout",
     "output_type": "stream",
     "text": [
      "Out[18]: pyspark.sql.dataframe.DataFrame"
     ]
    }
   ],
   "source": [
    "steam_json = spark.read.json(\"s3://full-stack-bigdata-datasets/Big_Data/Project_Steam/steam_game_output.json\")\n",
    "type(steam_json)"
   ]
  },
  {
   "cell_type": "code",
   "execution_count": 0,
   "metadata": {
    "application/vnd.databricks.v1+cell": {
     "cellMetadata": {
      "byteLimit": 2048000,
      "rowLimit": 10000
     },
     "inputWidgets": {},
     "nuid": "acb42e00-b83a-4f69-acb7-bf808923f600",
     "showTitle": false,
     "tableResultSettingsMap": {},
     "title": ""
    }
   },
   "outputs": [],
   "source": [
    "schema = StructType([\n",
    "  StructField('data', ArrayType(\n",
    "        StructType([\n",
    "            StructField('appid', LongType(), True),\n",
    "            StructField('categories', ArrayType(StringType(), True), True),\n",
    "            StructField('ccu', LongType(), True),\n",
    "        ])\n",
    "    ), True),\n",
    "    StructField('id', StringType(), True)\n",
    "])"
   ]
  },
  {
   "cell_type": "code",
   "execution_count": 0,
   "metadata": {
    "application/vnd.databricks.v1+cell": {
     "cellMetadata": {
      "byteLimit": 2048000,
      "rowLimit": 10000
     },
     "inputWidgets": {},
     "nuid": "1fd820cf-14ee-4cd1-8237-a2bed25bb6ea",
     "showTitle": false,
     "tableResultSettingsMap": {},
     "title": ""
    }
   },
   "outputs": [
    {
     "output_type": "display_data",
     "data": {
      "text/html": [
       "<style scoped>\n",
       "  .ansiout {\n",
       "    display: block;\n",
       "    unicode-bidi: embed;\n",
       "    white-space: pre-wrap;\n",
       "    word-wrap: break-word;\n",
       "    word-break: break-all;\n",
       "    font-family: \"Menlo\", \"Monaco\", \"Consolas\", \"Ubuntu Mono\", \"Source Code Pro\", monospace;\n",
       "    font-size: 13px;\n",
       "    color: #555;\n",
       "    margin-left: 4px;\n",
       "    line-height: 19px;\n",
       "  }\n",
       "</style>\n",
       "com.databricks.backend.daemon.driver.DriverClientDestroyedException: abort: DriverClient destroyed\n",
       "\tat com.databricks.backend.daemon.driver.DriverClient.$anonfun$poll$4(DriverClient.scala:754)\n",
       "\tat scala.concurrent.Future.$anonfun$flatMap$1(Future.scala:307)\n",
       "\tat scala.concurrent.impl.Promise.$anonfun$transformWith$1(Promise.scala:54)\n",
       "\tat scala.concurrent.impl.CallbackRunnable.run(Promise.scala:77)\n",
       "\tat com.databricks.threading.ContextBoundRunnable.$anonfun$run$2(ContextBoundRunnable.scala:15)\n",
       "\tat scala.runtime.java8.JFunction0$mcV$sp.apply(JFunction0$mcV$sp.java:23)\n",
       "\tat com.databricks.logging.AttributionContextTracing.$anonfun$withAttributionContext$1(AttributionContextTracing.scala:48)\n",
       "\tat com.databricks.logging.AttributionContext$.$anonfun$withValue$1(AttributionContext.scala:271)\n",
       "\tat scala.util.DynamicVariable.withValue(DynamicVariable.scala:62)\n",
       "\tat com.databricks.logging.AttributionContext$.withValue(AttributionContext.scala:267)\n",
       "\tat com.databricks.logging.AttributionContextTracing.withAttributionContext(AttributionContextTracing.scala:46)\n",
       "\tat com.databricks.logging.AttributionContextTracing.withAttributionContext$(AttributionContextTracing.scala:43)\n",
       "\tat com.databricks.threading.ContextBoundRunnable.withAttributionContext(ContextBoundRunnable.scala:6)\n",
       "\tat com.databricks.threading.ContextBoundRunnable.$anonfun$run$1(ContextBoundRunnable.scala:15)\n",
       "\tat scala.runtime.java8.JFunction0$mcV$sp.apply(JFunction0$mcV$sp.java:23)\n",
       "\tat com.databricks.context.integrity.IntegrityCheckContext$ThreadLocalStorage$.withValue(IntegrityCheckContext.scala:73)\n",
       "\tat com.databricks.threading.ContextBoundRunnable.run(ContextBoundRunnable.scala:14)\n",
       "\tat com.databricks.threading.DatabricksExecutionContext$InstrumentedRunnable.run(DatabricksExecutionContext.scala:36)\n",
       "\tat com.databricks.threading.NamedExecutor$$anon$2.run(NamedExecutor.scala:477)\n",
       "\tat java.base/java.util.concurrent.ThreadPoolExecutor.runWorker(ThreadPoolExecutor.java:1128)\n",
       "\tat java.base/java.util.concurrent.ThreadPoolExecutor$Worker.run(ThreadPoolExecutor.java:628)\n",
       "\tat java.base/java.lang.Thread.run(Thread.java:829)"
      ]
     },
     "metadata": {
      "application/vnd.databricks.v1+output": {
       "arguments": {},
       "data": "com.databricks.backend.daemon.driver.DriverClientDestroyedException: abort: DriverClient destroyed\n\tat com.databricks.backend.daemon.driver.DriverClient.$anonfun$poll$4(DriverClient.scala:754)\n\tat scala.concurrent.Future.$anonfun$flatMap$1(Future.scala:307)\n\tat scala.concurrent.impl.Promise.$anonfun$transformWith$1(Promise.scala:54)\n\tat scala.concurrent.impl.CallbackRunnable.run(Promise.scala:77)\n\tat com.databricks.threading.ContextBoundRunnable.$anonfun$run$2(ContextBoundRunnable.scala:15)\n\tat scala.runtime.java8.JFunction0$mcV$sp.apply(JFunction0$mcV$sp.java:23)\n\tat com.databricks.logging.AttributionContextTracing.$anonfun$withAttributionContext$1(AttributionContextTracing.scala:48)\n\tat com.databricks.logging.AttributionContext$.$anonfun$withValue$1(AttributionContext.scala:271)\n\tat scala.util.DynamicVariable.withValue(DynamicVariable.scala:62)\n\tat com.databricks.logging.AttributionContext$.withValue(AttributionContext.scala:267)\n\tat com.databricks.logging.AttributionContextTracing.withAttributionContext(AttributionContextTracing.scala:46)\n\tat com.databricks.logging.AttributionContextTracing.withAttributionContext$(AttributionContextTracing.scala:43)\n\tat com.databricks.threading.ContextBoundRunnable.withAttributionContext(ContextBoundRunnable.scala:6)\n\tat com.databricks.threading.ContextBoundRunnable.$anonfun$run$1(ContextBoundRunnable.scala:15)\n\tat scala.runtime.java8.JFunction0$mcV$sp.apply(JFunction0$mcV$sp.java:23)\n\tat com.databricks.context.integrity.IntegrityCheckContext$ThreadLocalStorage$.withValue(IntegrityCheckContext.scala:73)\n\tat com.databricks.threading.ContextBoundRunnable.run(ContextBoundRunnable.scala:14)\n\tat com.databricks.threading.DatabricksExecutionContext$InstrumentedRunnable.run(DatabricksExecutionContext.scala:36)\n\tat com.databricks.threading.NamedExecutor$$anon$2.run(NamedExecutor.scala:477)\n\tat java.base/java.util.concurrent.ThreadPoolExecutor.runWorker(ThreadPoolExecutor.java:1128)\n\tat java.base/java.util.concurrent.ThreadPoolExecutor$Worker.run(ThreadPoolExecutor.java:628)\n\tat java.base/java.lang.Thread.run(Thread.java:829)\n",
       "errorSummary": "Internal error. Attach your notebook to a different compute or restart the current compute.",
       "errorTraceType": null,
       "metadata": {},
       "type": "ipynbError"
      }
     },
     "output_type": "display_data"
    }
   ],
   "source": [
    "users_df = spark.createDataFrame(steam_rdd, schema=schema)\n",
    "users_df.printSchema()\n",
    "users_df.show(1)"
   ]
  },
  {
   "cell_type": "code",
   "execution_count": 0,
   "metadata": {
    "application/vnd.databricks.v1+cell": {
     "cellMetadata": {
      "byteLimit": 2048000,
      "rowLimit": 10000
     },
     "inputWidgets": {},
     "nuid": "fb818d76-0f5d-4393-b6f2-e29f5d6aa818",
     "showTitle": false,
     "tableResultSettingsMap": {},
     "title": ""
    }
   },
   "outputs": [
    {
     "output_type": "display_data",
     "data": {
      "text/plain": [
       "\u001B[0;31m---------------------------------------------------------------------------\u001B[0m\n",
       "\u001B[0;31mAnalysisException\u001B[0m                         Traceback (most recent call last)\n",
       "File \u001B[0;32m<command-1910755200294727>:1\u001B[0m\n",
       "\u001B[0;32m----> 1\u001B[0m test_df \u001B[38;5;241m=\u001B[39m steam_json\u001B[38;5;241m.\u001B[39mwithColumn(\u001B[38;5;124m'\u001B[39m\u001B[38;5;124mtest\u001B[39m\u001B[38;5;124m'\u001B[39m, F\u001B[38;5;241m.\u001B[39mexplode(\u001B[38;5;124m'\u001B[39m\u001B[38;5;124mdata\u001B[39m\u001B[38;5;124m'\u001B[39m))\n",
       "\u001B[1;32m      2\u001B[0m test_df\u001B[38;5;241m.\u001B[39mprintSchema()\n",
       "\u001B[1;32m      3\u001B[0m test_df\u001B[38;5;241m.\u001B[39mshow()\n",
       "\n",
       "File \u001B[0;32m/databricks/spark/python/pyspark/instrumentation_utils.py:48\u001B[0m, in \u001B[0;36m_wrap_function.<locals>.wrapper\u001B[0;34m(*args, **kwargs)\u001B[0m\n",
       "\u001B[1;32m     46\u001B[0m start \u001B[38;5;241m=\u001B[39m time\u001B[38;5;241m.\u001B[39mperf_counter()\n",
       "\u001B[1;32m     47\u001B[0m \u001B[38;5;28;01mtry\u001B[39;00m:\n",
       "\u001B[0;32m---> 48\u001B[0m     res \u001B[38;5;241m=\u001B[39m \u001B[43mfunc\u001B[49m\u001B[43m(\u001B[49m\u001B[38;5;241;43m*\u001B[39;49m\u001B[43margs\u001B[49m\u001B[43m,\u001B[49m\u001B[43m \u001B[49m\u001B[38;5;241;43m*\u001B[39;49m\u001B[38;5;241;43m*\u001B[39;49m\u001B[43mkwargs\u001B[49m\u001B[43m)\u001B[49m\n",
       "\u001B[1;32m     49\u001B[0m     logger\u001B[38;5;241m.\u001B[39mlog_success(\n",
       "\u001B[1;32m     50\u001B[0m         module_name, class_name, function_name, time\u001B[38;5;241m.\u001B[39mperf_counter() \u001B[38;5;241m-\u001B[39m start, signature\n",
       "\u001B[1;32m     51\u001B[0m     )\n",
       "\u001B[1;32m     52\u001B[0m     \u001B[38;5;28;01mreturn\u001B[39;00m res\n",
       "\n",
       "File \u001B[0;32m/databricks/spark/python/pyspark/sql/dataframe.py:4758\u001B[0m, in \u001B[0;36mDataFrame.withColumn\u001B[0;34m(self, colName, col)\u001B[0m\n",
       "\u001B[1;32m   4753\u001B[0m \u001B[38;5;28;01mif\u001B[39;00m \u001B[38;5;129;01mnot\u001B[39;00m \u001B[38;5;28misinstance\u001B[39m(col, Column):\n",
       "\u001B[1;32m   4754\u001B[0m     \u001B[38;5;28;01mraise\u001B[39;00m PySparkTypeError(\n",
       "\u001B[1;32m   4755\u001B[0m         error_class\u001B[38;5;241m=\u001B[39m\u001B[38;5;124m\"\u001B[39m\u001B[38;5;124mNOT_A_COLUMN\u001B[39m\u001B[38;5;124m\"\u001B[39m,\n",
       "\u001B[1;32m   4756\u001B[0m         message_parameters\u001B[38;5;241m=\u001B[39m{\u001B[38;5;124m\"\u001B[39m\u001B[38;5;124marg_name\u001B[39m\u001B[38;5;124m\"\u001B[39m: \u001B[38;5;124m\"\u001B[39m\u001B[38;5;124mcol\u001B[39m\u001B[38;5;124m\"\u001B[39m, \u001B[38;5;124m\"\u001B[39m\u001B[38;5;124marg_type\u001B[39m\u001B[38;5;124m\"\u001B[39m: \u001B[38;5;28mtype\u001B[39m(col)\u001B[38;5;241m.\u001B[39m\u001B[38;5;18m__name__\u001B[39m},\n",
       "\u001B[1;32m   4757\u001B[0m     )\n",
       "\u001B[0;32m-> 4758\u001B[0m \u001B[38;5;28;01mreturn\u001B[39;00m DataFrame(\u001B[38;5;28;43mself\u001B[39;49m\u001B[38;5;241;43m.\u001B[39;49m\u001B[43m_jdf\u001B[49m\u001B[38;5;241;43m.\u001B[39;49m\u001B[43mwithColumn\u001B[49m\u001B[43m(\u001B[49m\u001B[43mcolName\u001B[49m\u001B[43m,\u001B[49m\u001B[43m \u001B[49m\u001B[43mcol\u001B[49m\u001B[38;5;241;43m.\u001B[39;49m\u001B[43m_jc\u001B[49m\u001B[43m)\u001B[49m, \u001B[38;5;28mself\u001B[39m\u001B[38;5;241m.\u001B[39msparkSession)\n",
       "\n",
       "File \u001B[0;32m/databricks/spark/python/lib/py4j-0.10.9.5-src.zip/py4j/java_gateway.py:1321\u001B[0m, in \u001B[0;36mJavaMember.__call__\u001B[0;34m(self, *args)\u001B[0m\n",
       "\u001B[1;32m   1315\u001B[0m command \u001B[38;5;241m=\u001B[39m proto\u001B[38;5;241m.\u001B[39mCALL_COMMAND_NAME \u001B[38;5;241m+\u001B[39m\\\n",
       "\u001B[1;32m   1316\u001B[0m     \u001B[38;5;28mself\u001B[39m\u001B[38;5;241m.\u001B[39mcommand_header \u001B[38;5;241m+\u001B[39m\\\n",
       "\u001B[1;32m   1317\u001B[0m     args_command \u001B[38;5;241m+\u001B[39m\\\n",
       "\u001B[1;32m   1318\u001B[0m     proto\u001B[38;5;241m.\u001B[39mEND_COMMAND_PART\n",
       "\u001B[1;32m   1320\u001B[0m answer \u001B[38;5;241m=\u001B[39m \u001B[38;5;28mself\u001B[39m\u001B[38;5;241m.\u001B[39mgateway_client\u001B[38;5;241m.\u001B[39msend_command(command)\n",
       "\u001B[0;32m-> 1321\u001B[0m return_value \u001B[38;5;241m=\u001B[39m \u001B[43mget_return_value\u001B[49m\u001B[43m(\u001B[49m\n",
       "\u001B[1;32m   1322\u001B[0m \u001B[43m    \u001B[49m\u001B[43manswer\u001B[49m\u001B[43m,\u001B[49m\u001B[43m \u001B[49m\u001B[38;5;28;43mself\u001B[39;49m\u001B[38;5;241;43m.\u001B[39;49m\u001B[43mgateway_client\u001B[49m\u001B[43m,\u001B[49m\u001B[43m \u001B[49m\u001B[38;5;28;43mself\u001B[39;49m\u001B[38;5;241;43m.\u001B[39;49m\u001B[43mtarget_id\u001B[49m\u001B[43m,\u001B[49m\u001B[43m \u001B[49m\u001B[38;5;28;43mself\u001B[39;49m\u001B[38;5;241;43m.\u001B[39;49m\u001B[43mname\u001B[49m\u001B[43m)\u001B[49m\n",
       "\u001B[1;32m   1324\u001B[0m \u001B[38;5;28;01mfor\u001B[39;00m temp_arg \u001B[38;5;129;01min\u001B[39;00m temp_args:\n",
       "\u001B[1;32m   1325\u001B[0m     temp_arg\u001B[38;5;241m.\u001B[39m_detach()\n",
       "\n",
       "File \u001B[0;32m/databricks/spark/python/pyspark/errors/exceptions.py:234\u001B[0m, in \u001B[0;36mcapture_sql_exception.<locals>.deco\u001B[0;34m(*a, **kw)\u001B[0m\n",
       "\u001B[1;32m    230\u001B[0m converted \u001B[38;5;241m=\u001B[39m convert_exception(e\u001B[38;5;241m.\u001B[39mjava_exception)\n",
       "\u001B[1;32m    231\u001B[0m \u001B[38;5;28;01mif\u001B[39;00m \u001B[38;5;129;01mnot\u001B[39;00m \u001B[38;5;28misinstance\u001B[39m(converted, UnknownException):\n",
       "\u001B[1;32m    232\u001B[0m     \u001B[38;5;66;03m# Hide where the exception came from that shows a non-Pythonic\u001B[39;00m\n",
       "\u001B[1;32m    233\u001B[0m     \u001B[38;5;66;03m# JVM exception message.\u001B[39;00m\n",
       "\u001B[0;32m--> 234\u001B[0m     \u001B[38;5;28;01mraise\u001B[39;00m converted \u001B[38;5;28;01mfrom\u001B[39;00m \u001B[38;5;28mNone\u001B[39m\n",
       "\u001B[1;32m    235\u001B[0m \u001B[38;5;28;01melse\u001B[39;00m:\n",
       "\u001B[1;32m    236\u001B[0m     \u001B[38;5;28;01mraise\u001B[39;00m\n",
       "\n",
       "\u001B[0;31mAnalysisException\u001B[0m: [DATATYPE_MISMATCH.UNEXPECTED_INPUT_TYPE] Cannot resolve \"explode(data)\" due to data type mismatch: parameter 1 requires (\"ARRAY\" or \"MAP\") type, however, \"data\" is of \"STRUCT<appid: BIGINT, categories: ARRAY<STRING>, ccu: BIGINT, developer: STRING, discount: STRING, genre: STRING, header_image: STRING, initialprice: STRING, languages: STRING, name: STRING, negative: BIGINT, owners: STRING, platforms: STRUCT<linux: BOOLEAN, mac: BOOLEAN, windows: BOOLEAN>, positive: BIGINT, price: STRING, publisher: STRING, release_date: STRING, required_age: STRING, short_description: STRING, tags: STRUCT<1980s: BIGINT, `1990's`: BIGINT, `2.5D`: BIGINT, 2D: BIGINT, `2D Fighter`: BIGINT, `2D Platformer`: BIGINT, `360 Video`: BIGINT, 3D: BIGINT, `3D Fighter`: BIGINT, `3D Platformer`: BIGINT, `3D Vision`: BIGINT, `4 Player Local`: BIGINT, 4X: BIGINT, 6DOF: BIGINT, `8-bit Music`: BIGINT, ATV: BIGINT, Abstract: BIGINT, Action: BIGINT, `Action RPG`: BIGINT, `Action RTS`: BIGINT, `Action Roguelike`: BIGINT, `Action-Adventure`: BIGINT, Addictive: BIGINT, Adventure: BIGINT, Agriculture: BIGINT, Aliens: BIGINT, `Alternate History`: BIGINT, Ambient: BIGINT, America: BIGINT, `Animation & Modeling`: BIGINT, Anime: BIGINT, Arcade: BIGINT, Archery: BIGINT, `Arena Shooter`: BIGINT, `Artificial Intelligence`: BIGINT, Assassin: BIGINT, `Asymmetric VR`: BIGINT, `Asynchronous Multiplayer`: BIGINT, Atmospheric: BIGINT, `Audio Production`: BIGINT, `Auto Battler`: BIGINT, Automation: BIGINT, `Automobile Sim`: BIGINT, BMX: BIGINT, `Base-Building`: BIGINT, Baseball: BIGINT, `Based On A Novel`: BIGINT, Basketball: BIGINT, `Battle Royale`: BIGINT, `Beat 'em up`: BIGINT, Beautiful: BIGINT, Benchmark: BIGINT, Bikes: BIGINT, Blood: BIGINT, `Board Game`: BIGINT, `Boss Rush`: BIGINT, Bowling: BIGINT, Boxing: BIGINT, Building: BIGINT, `Bullet Hell`: BIGINT, `Bullet Time`: BIGINT, CRPG: BIGINT, Capitalism: BIGINT, `Card Battler`: BIGINT, `Card Game`: BIGINT, Cartoon: BIGINT, Cartoony: BIGINT, Casual: BIGINT, Cats: BIGINT, `Character Action Game`: BIGINT, `Character Customization`: BIGINT, Chess: BIGINT, `Choices Matter`: BIGINT, `Choose Your Own Adventure`: BIGINT, Cinematic: BIGINT, `City Builder`: BIGINT, `Class-Based`: BIGINT, Classic: BIGINT, Clicker: BIGINT, `Co-op`: BIGINT, `Co-op Campaign`: BIGINT, Coding: BIGINT, `Cold War`: BIGINT, Collectathon: BIGINT, `Colony Sim`: BIGINT, Colorful: BIGINT, Combat: BIGINT, `Combat Racing`: BIGINT, Comedy: BIGINT, `Comic Book`: BIGINT, Competitive: BIGINT, Conspiracy: BIGINT, Controller: BIGINT, Conversation: BIGINT, Cooking: BIGINT, Cozy: BIGINT, Crafting: BIGINT, `Creature Collector`: BIGINT, Cricket: BIGINT, Crime: BIGINT, Crowdfunded: BIGINT, `Cult Classic`: BIGINT, Cute: BIGINT, Cyberpunk: BIGINT, Cycling: BIGINT, Dark: BIGINT, `Dark Comedy`: BIGINT, `Dark Fantasy`: BIGINT, `Dark Humor`: BIGINT, `Dating Sim`: BIGINT, Deckbuilding: BIGINT, Demons: BIGINT, `Design & Illustration`: BIGINT, Destruction: BIGINT, Detective: BIGINT, Difficult: BIGINT, Dinosaurs: BIGINT, Diplomacy: BIGINT, Documentary: BIGINT, Dog: BIGINT, Dragons: BIGINT, Drama: BIGINT, Driving: BIGINT, `Dungeon Crawler`: BIGINT, `Dungeons & Dragons`: BIGINT, `Dynamic Narration`: BIGINT, `Dystopian `: BIGINT, `Early Access`: BIGINT, Economy: BIGINT, Education: BIGINT, Electronic: BIGINT, `Electronic Music`: BIGINT, Emotional: BIGINT, Epic: BIGINT, Episodic: BIGINT, `Escape Room`: BIGINT, Experience: BIGINT, Experimental: BIGINT, Exploration: BIGINT, FMV: BIGINT, FPS: BIGINT, Faith: BIGINT, `Family Friendly`: BIGINT, Fantasy: BIGINT, Farming: BIGINT, `Farming Sim`: BIGINT, `Fast-Paced`: BIGINT, `Feature Film`: BIGINT, `Female Protagonist`: BIGINT, Fighting: BIGINT, `First-Person`: BIGINT, Fishing: BIGINT, Flight: BIGINT, Football: BIGINT, Foreign: BIGINT, `Free to Play`: BIGINT, Funny: BIGINT, Futuristic: BIGINT, Gambling: BIGINT, `Game Development`: BIGINT, GameMaker: BIGINT, `Games Workshop`: BIGINT, Gaming: BIGINT, `God Game`: BIGINT, Golf: BIGINT, Gore: BIGINT, Gothic: BIGINT, `Grand Strategy`: BIGINT, `Great Soundtrack`: BIGINT, `Grid-Based Movement`: BIGINT, `Gun Customization`: BIGINT, `Hack and Slash`: BIGINT, Hacking: BIGINT, `Hand-drawn`: BIGINT, Hardware: BIGINT, Heist: BIGINT, Hentai: BIGINT, `Hero Shooter`: BIGINT, `Hex Grid`: BIGINT, `Hidden Object`: BIGINT, Historical: BIGINT, Hockey: BIGINT, Horror: BIGINT, Horses: BIGINT, Hunting: BIGINT, Idler: BIGINT, Illuminati: BIGINT, Immersive: BIGINT, `Immersive Sim`: BIGINT, Indie: BIGINT, `Instrumental Music`: BIGINT, `Intentionally Awkward Controls`: BIGINT, `Interactive Fiction`: BIGINT, `Inventory Management`: BIGINT, Investigation: BIGINT, Isometric: BIGINT, JRPG: BIGINT, Jet: BIGINT, `Job Simulator`: BIGINT, `Jump Scare`: BIGINT, Kickstarter: BIGINT, LEGO: BIGINT, `LGBTQ+`: BIGINT, Lemmings: BIGINT, `Level Editor`: BIGINT, `Life Sim`: BIGINT, Linear: BIGINT, `Local Co-Op`: BIGINT, `Local Multiplayer`: BIGINT, Logic: BIGINT, Loot: BIGINT, `Looter Shooter`: BIGINT, `Lore-Rich`: BIGINT, Lovecraftian: BIGINT, MMORPG: BIGINT, MOBA: BIGINT, Magic: BIGINT, Mahjong: BIGINT, Management: BIGINT, Mars: BIGINT, `Martial Arts`: BIGINT, `Massively Multiplayer`: BIGINT, Masterpiece: BIGINT, `Match 3`: BIGINT, Mature: BIGINT, Mechs: BIGINT, `Medical Sim`: BIGINT, Medieval: BIGINT, Memes: BIGINT, Metroidvania: BIGINT, Military: BIGINT, `Mini Golf`: BIGINT, Minigames: BIGINT, Minimalist: BIGINT, Mining: BIGINT, Mod: BIGINT, Moddable: BIGINT, Modern: BIGINT, Motocross: BIGINT, Motorbike: BIGINT, `Mouse only`: BIGINT, Movie: BIGINT, Multiplayer: BIGINT, `Multiple Endings`: BIGINT, Music: BIGINT, `Music-Based Procedural Generation`: BIGINT, Musou: BIGINT, Mystery: BIGINT, `Mystery Dungeon`: BIGINT, Mythology: BIGINT, NSFW: BIGINT, Narration: BIGINT, Narrative: BIGINT, Nature: BIGINT, Naval: BIGINT, `Naval Combat`: BIGINT, Ninja: BIGINT, Noir: BIGINT, Nonlinear: BIGINT, Nostalgia: BIGINT, Nudity: BIGINT, Offroad: BIGINT, `Old School`: BIGINT, `On-Rails Shooter`: BIGINT, `Online Co-Op`: BIGINT, `Open World`: BIGINT, `Open World Survival Craft`: BIGINT, Otome: BIGINT, `Outbreak Sim`: BIGINT, Parkour: BIGINT, `Parody `: BIGINT, Party: BIGINT, `Party Game`: BIGINT, `Party-Based RPG`: BIGINT, `Perma Death`: BIGINT, Philosophical: BIGINT, `Photo Editing`: BIGINT, Physics: BIGINT, Pinball: BIGINT, Pirates: BIGINT, `Pixel Graphics`: BIGINT, Platformer: BIGINT, `Point & Click`: BIGINT, Political: BIGINT, `Political Sim`: BIGINT, Politics: BIGINT, Pool: BIGINT, `Post-apocalyptic`: BIGINT, `Precision Platformer`: BIGINT, `Procedural Generation`: BIGINT, Programming: BIGINT, Psychedelic: BIGINT, Psychological: BIGINT, `Psychological Horror`: BIGINT, Puzzle: BIGINT, `Puzzle-Platformer`: BIGINT, PvE: BIGINT, PvP: BIGINT, `Quick-Time Events`: BIGINT, RPG: BIGINT, RPGMaker: BIGINT, RTS: BIGINT, Racing: BIGINT, `Real Time Tactics`: BIGINT, `Real-Time`: BIGINT, `Real-Time with Pause`: BIGINT, Realistic: BIGINT, Reboot: BIGINT, Relaxing: BIGINT, Remake: BIGINT, `Replay Value`: BIGINT, `Resource Management`: BIGINT, Retro: BIGINT, Rhythm: BIGINT, Robots: BIGINT, `Rock Music`: BIGINT, `Rogue-like`: BIGINT, `Rogue-lite`: BIGINT, `Roguelike Deckbuilder`: BIGINT, Roguevania: BIGINT, Romance: BIGINT, Rome: BIGINT, Rugby: BIGINT, Runner: BIGINT, Sailing: BIGINT, Sandbox: BIGINT, Satire: BIGINT, `Sci-fi`: BIGINT, Science: BIGINT, `Score Attack`: BIGINT, Sequel: BIGINT, `Sexual Content`: BIGINT, `Shoot 'Em Up`: BIGINT, Shooter: BIGINT, `Shop Keeper`: BIGINT, Short: BIGINT, `Side Scroller`: BIGINT, `Silent Protagonist`: BIGINT, Simulation: BIGINT, Singleplayer: BIGINT, Skateboarding: BIGINT, Skating: BIGINT, Skiing: BIGINT, Sniper: BIGINT, Snooker: BIGINT, Snow: BIGINT, Snowboarding: BIGINT, Soccer: BIGINT, `Social Deduction`: BIGINT, Software: BIGINT, `Software Training`: BIGINT, Sokoban: BIGINT, Solitaire: BIGINT, `Souls-like`: BIGINT, Soundtrack: BIGINT, Space: BIGINT, `Space Sim`: BIGINT, Spaceships: BIGINT, `Spectacle fighter`: BIGINT, Spelling: BIGINT, `Split Screen`: BIGINT, Sports: BIGINT, Stealth: BIGINT, `Steam Machine`: BIGINT, Steampunk: BIGINT, `Story Rich`: BIGINT, Strategy: BIGINT, `Strategy RPG`: BIGINT, Stylized: BIGINT, Submarine: BIGINT, Superhero: BIGINT, Supernatural: BIGINT, Surreal: BIGINT, Survival: BIGINT, `Survival Horror`: BIGINT, Swordplay: BIGINT, Tabletop: BIGINT, Tactical: BIGINT, `Tactical RPG`: BIGINT, Tanks: BIGINT, `Team-Based`: BIGINT, Tennis: BIGINT, `Text-Based`: BIGINT, `Third Person`: BIGINT, `Third-Person Shooter`: BIGINT, Thriller: BIGINT, `Tile-Matching`: BIGINT, `Time Attack`: BIGINT, `Time Management`: BIGINT, `Time Manipulation`: BIGINT, `Time Travel`: BIGINT, `Top-Down`: BIGINT, `Top-Down Shooter`: BIGINT, `Touch-Friendly`: BIGINT, `Tower Defense`: BIGINT, TrackIR: BIGINT, Trading: BIGINT, `Trading Card Game`: BIGINT, `Traditional Roguelike`: BIGINT, Trains: BIGINT, Transhumanism: BIGINT, Transportation: BIGINT, Trivia: BIGINT, `Turn-Based`: BIGINT, `Turn-Based Combat`: BIGINT, `Turn-Based Strategy`: BIGINT, `Turn-Based Tactics`: BIGINT, Tutorial: BIGINT, `Twin Stick Shooter`: BIGINT, Typing: BIGINT, Underground: BIGINT, Underwater: BIGINT, Unforgiving: BIGINT, Utilities: BIGINT, VR: BIGINT, `VR Only`: BIGINT, Vampire: BIGINT, `Vehicular Combat`: BIGINT, `Video Production`: BIGINT, Vikings: BIGINT, `Villain Protagonist`: BIGINT, Violent: BIGINT, `Visual Novel`: BIGINT, `Voice Control`: BIGINT, Volleyball: BIGINT, Voxel: BIGINT, `Walking Simulator`: BIGINT, War: BIGINT, Wargame: BIGINT, `Warhammer 40K`: BIGINT, `Web Publishing`: BIGINT, `Well-Written`: BIGINT, Werewolves: BIGINT, Western: BIGINT, Wholesome: BIGINT, `Word Game`: BIGINT, `World War I`: BIGINT, `World War II`: BIGINT, Wrestling: BIGINT, Zombies: BIGINT, `e-sports`: BIGINT>, type: STRING, website: STRING>\" type.;\n",
       "'Project [data#4506, id#4507, explode(data#4506) AS test#4528]\n",
       "+- Relation [data#4506,id#4507] json\n"
      ]
     },
     "metadata": {
      "application/vnd.databricks.v1+output": {
       "arguments": {},
       "data": "\u001B[0;31m---------------------------------------------------------------------------\u001B[0m\n\u001B[0;31mAnalysisException\u001B[0m                         Traceback (most recent call last)\nFile \u001B[0;32m<command-1910755200294727>:1\u001B[0m\n\u001B[0;32m----> 1\u001B[0m test_df \u001B[38;5;241m=\u001B[39m steam_json\u001B[38;5;241m.\u001B[39mwithColumn(\u001B[38;5;124m'\u001B[39m\u001B[38;5;124mtest\u001B[39m\u001B[38;5;124m'\u001B[39m, F\u001B[38;5;241m.\u001B[39mexplode(\u001B[38;5;124m'\u001B[39m\u001B[38;5;124mdata\u001B[39m\u001B[38;5;124m'\u001B[39m))\n\u001B[1;32m      2\u001B[0m test_df\u001B[38;5;241m.\u001B[39mprintSchema()\n\u001B[1;32m      3\u001B[0m test_df\u001B[38;5;241m.\u001B[39mshow()\n\nFile \u001B[0;32m/databricks/spark/python/pyspark/instrumentation_utils.py:48\u001B[0m, in \u001B[0;36m_wrap_function.<locals>.wrapper\u001B[0;34m(*args, **kwargs)\u001B[0m\n\u001B[1;32m     46\u001B[0m start \u001B[38;5;241m=\u001B[39m time\u001B[38;5;241m.\u001B[39mperf_counter()\n\u001B[1;32m     47\u001B[0m \u001B[38;5;28;01mtry\u001B[39;00m:\n\u001B[0;32m---> 48\u001B[0m     res \u001B[38;5;241m=\u001B[39m \u001B[43mfunc\u001B[49m\u001B[43m(\u001B[49m\u001B[38;5;241;43m*\u001B[39;49m\u001B[43margs\u001B[49m\u001B[43m,\u001B[49m\u001B[43m \u001B[49m\u001B[38;5;241;43m*\u001B[39;49m\u001B[38;5;241;43m*\u001B[39;49m\u001B[43mkwargs\u001B[49m\u001B[43m)\u001B[49m\n\u001B[1;32m     49\u001B[0m     logger\u001B[38;5;241m.\u001B[39mlog_success(\n\u001B[1;32m     50\u001B[0m         module_name, class_name, function_name, time\u001B[38;5;241m.\u001B[39mperf_counter() \u001B[38;5;241m-\u001B[39m start, signature\n\u001B[1;32m     51\u001B[0m     )\n\u001B[1;32m     52\u001B[0m     \u001B[38;5;28;01mreturn\u001B[39;00m res\n\nFile \u001B[0;32m/databricks/spark/python/pyspark/sql/dataframe.py:4758\u001B[0m, in \u001B[0;36mDataFrame.withColumn\u001B[0;34m(self, colName, col)\u001B[0m\n\u001B[1;32m   4753\u001B[0m \u001B[38;5;28;01mif\u001B[39;00m \u001B[38;5;129;01mnot\u001B[39;00m \u001B[38;5;28misinstance\u001B[39m(col, Column):\n\u001B[1;32m   4754\u001B[0m     \u001B[38;5;28;01mraise\u001B[39;00m PySparkTypeError(\n\u001B[1;32m   4755\u001B[0m         error_class\u001B[38;5;241m=\u001B[39m\u001B[38;5;124m\"\u001B[39m\u001B[38;5;124mNOT_A_COLUMN\u001B[39m\u001B[38;5;124m\"\u001B[39m,\n\u001B[1;32m   4756\u001B[0m         message_parameters\u001B[38;5;241m=\u001B[39m{\u001B[38;5;124m\"\u001B[39m\u001B[38;5;124marg_name\u001B[39m\u001B[38;5;124m\"\u001B[39m: \u001B[38;5;124m\"\u001B[39m\u001B[38;5;124mcol\u001B[39m\u001B[38;5;124m\"\u001B[39m, \u001B[38;5;124m\"\u001B[39m\u001B[38;5;124marg_type\u001B[39m\u001B[38;5;124m\"\u001B[39m: \u001B[38;5;28mtype\u001B[39m(col)\u001B[38;5;241m.\u001B[39m\u001B[38;5;18m__name__\u001B[39m},\n\u001B[1;32m   4757\u001B[0m     )\n\u001B[0;32m-> 4758\u001B[0m \u001B[38;5;28;01mreturn\u001B[39;00m DataFrame(\u001B[38;5;28;43mself\u001B[39;49m\u001B[38;5;241;43m.\u001B[39;49m\u001B[43m_jdf\u001B[49m\u001B[38;5;241;43m.\u001B[39;49m\u001B[43mwithColumn\u001B[49m\u001B[43m(\u001B[49m\u001B[43mcolName\u001B[49m\u001B[43m,\u001B[49m\u001B[43m \u001B[49m\u001B[43mcol\u001B[49m\u001B[38;5;241;43m.\u001B[39;49m\u001B[43m_jc\u001B[49m\u001B[43m)\u001B[49m, \u001B[38;5;28mself\u001B[39m\u001B[38;5;241m.\u001B[39msparkSession)\n\nFile \u001B[0;32m/databricks/spark/python/lib/py4j-0.10.9.5-src.zip/py4j/java_gateway.py:1321\u001B[0m, in \u001B[0;36mJavaMember.__call__\u001B[0;34m(self, *args)\u001B[0m\n\u001B[1;32m   1315\u001B[0m command \u001B[38;5;241m=\u001B[39m proto\u001B[38;5;241m.\u001B[39mCALL_COMMAND_NAME \u001B[38;5;241m+\u001B[39m\\\n\u001B[1;32m   1316\u001B[0m     \u001B[38;5;28mself\u001B[39m\u001B[38;5;241m.\u001B[39mcommand_header \u001B[38;5;241m+\u001B[39m\\\n\u001B[1;32m   1317\u001B[0m     args_command \u001B[38;5;241m+\u001B[39m\\\n\u001B[1;32m   1318\u001B[0m     proto\u001B[38;5;241m.\u001B[39mEND_COMMAND_PART\n\u001B[1;32m   1320\u001B[0m answer \u001B[38;5;241m=\u001B[39m \u001B[38;5;28mself\u001B[39m\u001B[38;5;241m.\u001B[39mgateway_client\u001B[38;5;241m.\u001B[39msend_command(command)\n\u001B[0;32m-> 1321\u001B[0m return_value \u001B[38;5;241m=\u001B[39m \u001B[43mget_return_value\u001B[49m\u001B[43m(\u001B[49m\n\u001B[1;32m   1322\u001B[0m \u001B[43m    \u001B[49m\u001B[43manswer\u001B[49m\u001B[43m,\u001B[49m\u001B[43m \u001B[49m\u001B[38;5;28;43mself\u001B[39;49m\u001B[38;5;241;43m.\u001B[39;49m\u001B[43mgateway_client\u001B[49m\u001B[43m,\u001B[49m\u001B[43m \u001B[49m\u001B[38;5;28;43mself\u001B[39;49m\u001B[38;5;241;43m.\u001B[39;49m\u001B[43mtarget_id\u001B[49m\u001B[43m,\u001B[49m\u001B[43m \u001B[49m\u001B[38;5;28;43mself\u001B[39;49m\u001B[38;5;241;43m.\u001B[39;49m\u001B[43mname\u001B[49m\u001B[43m)\u001B[49m\n\u001B[1;32m   1324\u001B[0m \u001B[38;5;28;01mfor\u001B[39;00m temp_arg \u001B[38;5;129;01min\u001B[39;00m temp_args:\n\u001B[1;32m   1325\u001B[0m     temp_arg\u001B[38;5;241m.\u001B[39m_detach()\n\nFile \u001B[0;32m/databricks/spark/python/pyspark/errors/exceptions.py:234\u001B[0m, in \u001B[0;36mcapture_sql_exception.<locals>.deco\u001B[0;34m(*a, **kw)\u001B[0m\n\u001B[1;32m    230\u001B[0m converted \u001B[38;5;241m=\u001B[39m convert_exception(e\u001B[38;5;241m.\u001B[39mjava_exception)\n\u001B[1;32m    231\u001B[0m \u001B[38;5;28;01mif\u001B[39;00m \u001B[38;5;129;01mnot\u001B[39;00m \u001B[38;5;28misinstance\u001B[39m(converted, UnknownException):\n\u001B[1;32m    232\u001B[0m     \u001B[38;5;66;03m# Hide where the exception came from that shows a non-Pythonic\u001B[39;00m\n\u001B[1;32m    233\u001B[0m     \u001B[38;5;66;03m# JVM exception message.\u001B[39;00m\n\u001B[0;32m--> 234\u001B[0m     \u001B[38;5;28;01mraise\u001B[39;00m converted \u001B[38;5;28;01mfrom\u001B[39;00m \u001B[38;5;28mNone\u001B[39m\n\u001B[1;32m    235\u001B[0m \u001B[38;5;28;01melse\u001B[39;00m:\n\u001B[1;32m    236\u001B[0m     \u001B[38;5;28;01mraise\u001B[39;00m\n\n\u001B[0;31mAnalysisException\u001B[0m: [DATATYPE_MISMATCH.UNEXPECTED_INPUT_TYPE] Cannot resolve \"explode(data)\" due to data type mismatch: parameter 1 requires (\"ARRAY\" or \"MAP\") type, however, \"data\" is of \"STRUCT<appid: BIGINT, categories: ARRAY<STRING>, ccu: BIGINT, developer: STRING, discount: STRING, genre: STRING, header_image: STRING, initialprice: STRING, languages: STRING, name: STRING, negative: BIGINT, owners: STRING, platforms: STRUCT<linux: BOOLEAN, mac: BOOLEAN, windows: BOOLEAN>, positive: BIGINT, price: STRING, publisher: STRING, release_date: STRING, required_age: STRING, short_description: STRING, tags: STRUCT<1980s: BIGINT, `1990's`: BIGINT, `2.5D`: BIGINT, 2D: BIGINT, `2D Fighter`: BIGINT, `2D Platformer`: BIGINT, `360 Video`: BIGINT, 3D: BIGINT, `3D Fighter`: BIGINT, `3D Platformer`: BIGINT, `3D Vision`: BIGINT, `4 Player Local`: BIGINT, 4X: BIGINT, 6DOF: BIGINT, `8-bit Music`: BIGINT, ATV: BIGINT, Abstract: BIGINT, Action: BIGINT, `Action RPG`: BIGINT, `Action RTS`: BIGINT, `Action Roguelike`: BIGINT, `Action-Adventure`: BIGINT, Addictive: BIGINT, Adventure: BIGINT, Agriculture: BIGINT, Aliens: BIGINT, `Alternate History`: BIGINT, Ambient: BIGINT, America: BIGINT, `Animation & Modeling`: BIGINT, Anime: BIGINT, Arcade: BIGINT, Archery: BIGINT, `Arena Shooter`: BIGINT, `Artificial Intelligence`: BIGINT, Assassin: BIGINT, `Asymmetric VR`: BIGINT, `Asynchronous Multiplayer`: BIGINT, Atmospheric: BIGINT, `Audio Production`: BIGINT, `Auto Battler`: BIGINT, Automation: BIGINT, `Automobile Sim`: BIGINT, BMX: BIGINT, `Base-Building`: BIGINT, Baseball: BIGINT, `Based On A Novel`: BIGINT, Basketball: BIGINT, `Battle Royale`: BIGINT, `Beat 'em up`: BIGINT, Beautiful: BIGINT, Benchmark: BIGINT, Bikes: BIGINT, Blood: BIGINT, `Board Game`: BIGINT, `Boss Rush`: BIGINT, Bowling: BIGINT, Boxing: BIGINT, Building: BIGINT, `Bullet Hell`: BIGINT, `Bullet Time`: BIGINT, CRPG: BIGINT, Capitalism: BIGINT, `Card Battler`: BIGINT, `Card Game`: BIGINT, Cartoon: BIGINT, Cartoony: BIGINT, Casual: BIGINT, Cats: BIGINT, `Character Action Game`: BIGINT, `Character Customization`: BIGINT, Chess: BIGINT, `Choices Matter`: BIGINT, `Choose Your Own Adventure`: BIGINT, Cinematic: BIGINT, `City Builder`: BIGINT, `Class-Based`: BIGINT, Classic: BIGINT, Clicker: BIGINT, `Co-op`: BIGINT, `Co-op Campaign`: BIGINT, Coding: BIGINT, `Cold War`: BIGINT, Collectathon: BIGINT, `Colony Sim`: BIGINT, Colorful: BIGINT, Combat: BIGINT, `Combat Racing`: BIGINT, Comedy: BIGINT, `Comic Book`: BIGINT, Competitive: BIGINT, Conspiracy: BIGINT, Controller: BIGINT, Conversation: BIGINT, Cooking: BIGINT, Cozy: BIGINT, Crafting: BIGINT, `Creature Collector`: BIGINT, Cricket: BIGINT, Crime: BIGINT, Crowdfunded: BIGINT, `Cult Classic`: BIGINT, Cute: BIGINT, Cyberpunk: BIGINT, Cycling: BIGINT, Dark: BIGINT, `Dark Comedy`: BIGINT, `Dark Fantasy`: BIGINT, `Dark Humor`: BIGINT, `Dating Sim`: BIGINT, Deckbuilding: BIGINT, Demons: BIGINT, `Design & Illustration`: BIGINT, Destruction: BIGINT, Detective: BIGINT, Difficult: BIGINT, Dinosaurs: BIGINT, Diplomacy: BIGINT, Documentary: BIGINT, Dog: BIGINT, Dragons: BIGINT, Drama: BIGINT, Driving: BIGINT, `Dungeon Crawler`: BIGINT, `Dungeons & Dragons`: BIGINT, `Dynamic Narration`: BIGINT, `Dystopian `: BIGINT, `Early Access`: BIGINT, Economy: BIGINT, Education: BIGINT, Electronic: BIGINT, `Electronic Music`: BIGINT, Emotional: BIGINT, Epic: BIGINT, Episodic: BIGINT, `Escape Room`: BIGINT, Experience: BIGINT, Experimental: BIGINT, Exploration: BIGINT, FMV: BIGINT, FPS: BIGINT, Faith: BIGINT, `Family Friendly`: BIGINT, Fantasy: BIGINT, Farming: BIGINT, `Farming Sim`: BIGINT, `Fast-Paced`: BIGINT, `Feature Film`: BIGINT, `Female Protagonist`: BIGINT, Fighting: BIGINT, `First-Person`: BIGINT, Fishing: BIGINT, Flight: BIGINT, Football: BIGINT, Foreign: BIGINT, `Free to Play`: BIGINT, Funny: BIGINT, Futuristic: BIGINT, Gambling: BIGINT, `Game Development`: BIGINT, GameMaker: BIGINT, `Games Workshop`: BIGINT, Gaming: BIGINT, `God Game`: BIGINT, Golf: BIGINT, Gore: BIGINT, Gothic: BIGINT, `Grand Strategy`: BIGINT, `Great Soundtrack`: BIGINT, `Grid-Based Movement`: BIGINT, `Gun Customization`: BIGINT, `Hack and Slash`: BIGINT, Hacking: BIGINT, `Hand-drawn`: BIGINT, Hardware: BIGINT, Heist: BIGINT, Hentai: BIGINT, `Hero Shooter`: BIGINT, `Hex Grid`: BIGINT, `Hidden Object`: BIGINT, Historical: BIGINT, Hockey: BIGINT, Horror: BIGINT, Horses: BIGINT, Hunting: BIGINT, Idler: BIGINT, Illuminati: BIGINT, Immersive: BIGINT, `Immersive Sim`: BIGINT, Indie: BIGINT, `Instrumental Music`: BIGINT, `Intentionally Awkward Controls`: BIGINT, `Interactive Fiction`: BIGINT, `Inventory Management`: BIGINT, Investigation: BIGINT, Isometric: BIGINT, JRPG: BIGINT, Jet: BIGINT, `Job Simulator`: BIGINT, `Jump Scare`: BIGINT, Kickstarter: BIGINT, LEGO: BIGINT, `LGBTQ+`: BIGINT, Lemmings: BIGINT, `Level Editor`: BIGINT, `Life Sim`: BIGINT, Linear: BIGINT, `Local Co-Op`: BIGINT, `Local Multiplayer`: BIGINT, Logic: BIGINT, Loot: BIGINT, `Looter Shooter`: BIGINT, `Lore-Rich`: BIGINT, Lovecraftian: BIGINT, MMORPG: BIGINT, MOBA: BIGINT, Magic: BIGINT, Mahjong: BIGINT, Management: BIGINT, Mars: BIGINT, `Martial Arts`: BIGINT, `Massively Multiplayer`: BIGINT, Masterpiece: BIGINT, `Match 3`: BIGINT, Mature: BIGINT, Mechs: BIGINT, `Medical Sim`: BIGINT, Medieval: BIGINT, Memes: BIGINT, Metroidvania: BIGINT, Military: BIGINT, `Mini Golf`: BIGINT, Minigames: BIGINT, Minimalist: BIGINT, Mining: BIGINT, Mod: BIGINT, Moddable: BIGINT, Modern: BIGINT, Motocross: BIGINT, Motorbike: BIGINT, `Mouse only`: BIGINT, Movie: BIGINT, Multiplayer: BIGINT, `Multiple Endings`: BIGINT, Music: BIGINT, `Music-Based Procedural Generation`: BIGINT, Musou: BIGINT, Mystery: BIGINT, `Mystery Dungeon`: BIGINT, Mythology: BIGINT, NSFW: BIGINT, Narration: BIGINT, Narrative: BIGINT, Nature: BIGINT, Naval: BIGINT, `Naval Combat`: BIGINT, Ninja: BIGINT, Noir: BIGINT, Nonlinear: BIGINT, Nostalgia: BIGINT, Nudity: BIGINT, Offroad: BIGINT, `Old School`: BIGINT, `On-Rails Shooter`: BIGINT, `Online Co-Op`: BIGINT, `Open World`: BIGINT, `Open World Survival Craft`: BIGINT, Otome: BIGINT, `Outbreak Sim`: BIGINT, Parkour: BIGINT, `Parody `: BIGINT, Party: BIGINT, `Party Game`: BIGINT, `Party-Based RPG`: BIGINT, `Perma Death`: BIGINT, Philosophical: BIGINT, `Photo Editing`: BIGINT, Physics: BIGINT, Pinball: BIGINT, Pirates: BIGINT, `Pixel Graphics`: BIGINT, Platformer: BIGINT, `Point & Click`: BIGINT, Political: BIGINT, `Political Sim`: BIGINT, Politics: BIGINT, Pool: BIGINT, `Post-apocalyptic`: BIGINT, `Precision Platformer`: BIGINT, `Procedural Generation`: BIGINT, Programming: BIGINT, Psychedelic: BIGINT, Psychological: BIGINT, `Psychological Horror`: BIGINT, Puzzle: BIGINT, `Puzzle-Platformer`: BIGINT, PvE: BIGINT, PvP: BIGINT, `Quick-Time Events`: BIGINT, RPG: BIGINT, RPGMaker: BIGINT, RTS: BIGINT, Racing: BIGINT, `Real Time Tactics`: BIGINT, `Real-Time`: BIGINT, `Real-Time with Pause`: BIGINT, Realistic: BIGINT, Reboot: BIGINT, Relaxing: BIGINT, Remake: BIGINT, `Replay Value`: BIGINT, `Resource Management`: BIGINT, Retro: BIGINT, Rhythm: BIGINT, Robots: BIGINT, `Rock Music`: BIGINT, `Rogue-like`: BIGINT, `Rogue-lite`: BIGINT, `Roguelike Deckbuilder`: BIGINT, Roguevania: BIGINT, Romance: BIGINT, Rome: BIGINT, Rugby: BIGINT, Runner: BIGINT, Sailing: BIGINT, Sandbox: BIGINT, Satire: BIGINT, `Sci-fi`: BIGINT, Science: BIGINT, `Score Attack`: BIGINT, Sequel: BIGINT, `Sexual Content`: BIGINT, `Shoot 'Em Up`: BIGINT, Shooter: BIGINT, `Shop Keeper`: BIGINT, Short: BIGINT, `Side Scroller`: BIGINT, `Silent Protagonist`: BIGINT, Simulation: BIGINT, Singleplayer: BIGINT, Skateboarding: BIGINT, Skating: BIGINT, Skiing: BIGINT, Sniper: BIGINT, Snooker: BIGINT, Snow: BIGINT, Snowboarding: BIGINT, Soccer: BIGINT, `Social Deduction`: BIGINT, Software: BIGINT, `Software Training`: BIGINT, Sokoban: BIGINT, Solitaire: BIGINT, `Souls-like`: BIGINT, Soundtrack: BIGINT, Space: BIGINT, `Space Sim`: BIGINT, Spaceships: BIGINT, `Spectacle fighter`: BIGINT, Spelling: BIGINT, `Split Screen`: BIGINT, Sports: BIGINT, Stealth: BIGINT, `Steam Machine`: BIGINT, Steampunk: BIGINT, `Story Rich`: BIGINT, Strategy: BIGINT, `Strategy RPG`: BIGINT, Stylized: BIGINT, Submarine: BIGINT, Superhero: BIGINT, Supernatural: BIGINT, Surreal: BIGINT, Survival: BIGINT, `Survival Horror`: BIGINT, Swordplay: BIGINT, Tabletop: BIGINT, Tactical: BIGINT, `Tactical RPG`: BIGINT, Tanks: BIGINT, `Team-Based`: BIGINT, Tennis: BIGINT, `Text-Based`: BIGINT, `Third Person`: BIGINT, `Third-Person Shooter`: BIGINT, Thriller: BIGINT, `Tile-Matching`: BIGINT, `Time Attack`: BIGINT, `Time Management`: BIGINT, `Time Manipulation`: BIGINT, `Time Travel`: BIGINT, `Top-Down`: BIGINT, `Top-Down Shooter`: BIGINT, `Touch-Friendly`: BIGINT, `Tower Defense`: BIGINT, TrackIR: BIGINT, Trading: BIGINT, `Trading Card Game`: BIGINT, `Traditional Roguelike`: BIGINT, Trains: BIGINT, Transhumanism: BIGINT, Transportation: BIGINT, Trivia: BIGINT, `Turn-Based`: BIGINT, `Turn-Based Combat`: BIGINT, `Turn-Based Strategy`: BIGINT, `Turn-Based Tactics`: BIGINT, Tutorial: BIGINT, `Twin Stick Shooter`: BIGINT, Typing: BIGINT, Underground: BIGINT, Underwater: BIGINT, Unforgiving: BIGINT, Utilities: BIGINT, VR: BIGINT, `VR Only`: BIGINT, Vampire: BIGINT, `Vehicular Combat`: BIGINT, `Video Production`: BIGINT, Vikings: BIGINT, `Villain Protagonist`: BIGINT, Violent: BIGINT, `Visual Novel`: BIGINT, `Voice Control`: BIGINT, Volleyball: BIGINT, Voxel: BIGINT, `Walking Simulator`: BIGINT, War: BIGINT, Wargame: BIGINT, `Warhammer 40K`: BIGINT, `Web Publishing`: BIGINT, `Well-Written`: BIGINT, Werewolves: BIGINT, Western: BIGINT, Wholesome: BIGINT, `Word Game`: BIGINT, `World War I`: BIGINT, `World War II`: BIGINT, Wrestling: BIGINT, Zombies: BIGINT, `e-sports`: BIGINT>, type: STRING, website: STRING>\" type.;\n'Project [data#4506, id#4507, explode(data#4506) AS test#4528]\n+- Relation [data#4506,id#4507] json\n",
       "errorSummary": "<span class='ansi-red-fg'>AnalysisException</span>: [DATATYPE_MISMATCH.UNEXPECTED_INPUT_TYPE] Cannot resolve \"explode(data)\" due to data type mismatch: parameter 1 requires (\"ARRAY\" or \"MAP\") type, however, \"data\" is of \"STRUCT<appid: BIGINT, categories: ARRAY<STRING>, ccu: BIGINT, developer: STRING, discount: STRING, genre: STRING, header_image: STRING, initialprice: STRING, languages: STRING, name: STRING, negative: BIGINT, owners: STRING, platforms: STRUCT<linux: BOOLEAN, mac: BOOLEAN, windows: BOOLEAN>, positive: BIGINT, price: STRING, publisher: STRING, release_date: STRING, required_age: STRING, short_description: STRING, tags: STRUCT<1980s: BIGINT, `1990's`: BIGINT, `2.5D`: BIGINT, 2D: BIGINT, `2D Fighter`: BIGINT, `2D Platformer`: BIGINT, `360 Video`: BIGINT, 3D: BIGINT, `3D Fighter`: BIGINT, `3D Platformer`: BIGINT, `3D Vision`: BIGINT, `4 Player Local`: BIGINT, 4X: BIGINT, 6DOF: BIGINT, `8-bit Music`: BIGINT, ATV: BIGINT, Abstract: BIGINT, Action: BIGINT, `Action RPG`: BIGINT, `Action RTS`: BIGINT, `Action Roguelike`: BIGINT, `Action-Adventure`: BIGINT, Addictive: BIGINT, Adventure: BIGINT, Agriculture: BIGINT, Aliens: BIGINT, `Alternate History`: BIGINT, Ambient: BIGINT, America: BIGINT, `Animation & Modeling`: BIGINT, Anime: BIGINT, Arcade: BIGINT, Archery: BIGINT, `Arena Shooter`: BIGINT, `Artificial Intelligence`: BIGINT, Assassin: BIGINT, `Asymmetric VR`: BIGINT, `Asynchronous Multiplayer`: BIGINT, Atmospheric: BIGINT, `Audio Production`: BIGINT, `Auto Battler`: BIGINT, Automation: BIGINT, `Automobile Sim`: BIGINT, BMX: BIGINT, `Base-Building`: BIGINT, Baseball: BIGINT, `Based On A Novel`: BIGINT, Basketball: BIGINT, `Battle Royale`: BIGINT, `Beat 'em up`: BIGINT, Beautiful: BIGINT, Benchmark: BIGINT, Bikes: BIGINT, Blood: BIGINT, `Board Game`: BIGINT, `Boss Rush`: BIGINT, Bowling: BIGINT, Boxing: BIGINT, Building: BIGINT, `Bullet Hell`: BIGINT, `Bullet Time`: BIGINT, CRPG: BIGINT, Capitalism: BIGINT, `Card Battler`: BIGINT, `Card Game`: BIGINT, Cartoon: BIGINT, Cartoony: BIGINT, Casual: BIGINT, Cats: BIGINT, `Character Action Game`: BIGINT, `Character Customization`: BIGINT, Chess: BIGINT, `Choices Matter`: BIGINT, `Choose Your Own Adventure`: BIGINT, Cinematic: BIGINT, `City Builder`: BIGINT, `Class-Based`: BIGINT, Classic: BIGINT, Clicker: BIGINT, `Co-op`: BIGINT, `Co-op Campaign`: BIGINT, Coding: BIGINT, `Cold War`: BIGINT, Collectathon: BIGINT, `Colony Sim`: BIGINT, Colorful: BIGINT, Combat: BIGINT, `Combat Racing`: BIGINT, Comedy: BIGINT, `Comic Book`: BIGINT, Competitive: BIGINT, Conspiracy: BIGINT, Controller: BIGINT, Conversation: BIGINT, Cooking: BIGINT, Cozy: BIGINT, Crafting: BIGINT, `Creature Collector`: BIGINT, Cricket: BIGINT, Crime: BIGINT, Crowdfunded: BIGINT, `Cult Classic`: BIGINT, Cute: BIGINT, Cyberpunk: BIGINT, Cycling: BIGINT, Dark: BIGINT, `Dark Comedy`: BIGINT, `Dark Fantasy`: BIGINT, `Dark Humor`: BIGINT, `Dating Sim`: BIGINT, Deckbuilding: BIGINT, Demons: BIGINT, `Design & Illustration`: BIGINT, Destruction: BIGINT, Detective: BIGINT, Difficult: BIGINT, Dinosaurs: BIGINT, Diplomacy: BIGINT, Documentary: BIGINT, Dog: BIGINT, Dragons: BIGINT, Drama: BIGINT, Driving: BIGINT, `Dungeon Crawler`: BIGINT, `Dungeons & Dragons`: BIGINT, `Dynamic Narration`: BIGINT, `Dystopian `: BIGINT, `Early Access`: BIGINT, Economy: BIGINT, Education: BIGINT, Electronic: BIGINT, `Electronic Music`: BIGINT, Emotional: BIGINT, Epic: BIGINT, Episodic: BIGINT, `Escape Room`: BIGINT, Experience: BIGINT, Experimental: BIGINT, Exploration: BIGINT, FMV: BIGINT, FPS: BIGINT, Faith: BIGINT, `Family Friendly`: BIGINT, Fantasy: BIGINT, Farming: BIGINT, `Farming Sim`: BIGINT, `Fast-Paced`: BIGINT, `Feature Film`: BIGINT, `Female Protagonist`: BIGINT, Fighting: BIGINT, `First-Person`: BIGINT, Fishing: BIGINT, Flight: BIGINT, Football: BIGINT, Foreign: BIGINT, `Free to Play`: BIGINT, Funny: BIGINT, Futuristic: BIGINT, Gambling: BIGINT, `Game Development`: BIGINT, GameMaker: BIGINT, `Games Workshop`: BIGINT, Gaming: BIGINT, `God Game`: BIGINT, Golf: BIGINT, Gore: BIGINT, Gothic: BIGINT, `Grand Strategy`: BIGINT, `Great Soundtrack`: BIGINT, `Grid-Based Movement`: BIGINT, `Gun Customization`: BIGINT, `Hack and Slash`: BIGINT, Hacking: BIGINT, `Hand-drawn`: BIGINT, Hardware: BIGINT, Heist: BIGINT, Hentai: BIGINT, `Hero Shooter`: BIGINT, `Hex Grid`: BIGINT, `Hidden Object`: BIGINT, Historical: BIGINT, Hockey: BIGINT, Horror: BIGINT, Horses: BIGINT, Hunting: BIGINT, Idler: BIGINT, Illuminati: BIGINT, Immersive: BIGINT, `Immersive Sim`: BIGINT, Indie: BIGINT, `Instrumental Music`: BIGINT, `Intentionally Awkward Controls`: BIGINT, `Interactive Fiction`: BIGINT, `Inventory Management`: BIGINT, Investigation: BIGINT, Isometric: BIGINT, JRPG: BIGINT, Jet: BIGINT, `Job Simulator`: BIGINT, `Jump Scare`: BIGINT, Kickstarter: BIGINT, LEGO: BIGINT, `LGBTQ+`: BIGINT, Lemmings: BIGINT, `Level Editor`: BIGINT, `Life Sim`: BIGINT, Linear: BIGINT, `Local Co-Op`: BIGINT, `Local Multiplayer`: BIGINT, Logic: BIGINT, Loot: BIGINT, `Looter Shooter`: BIGINT, `Lore-Rich`: BIGINT, Lovecraftian: BIGINT, MMORPG: BIGINT, MOBA: BIGINT, Magic: BIGINT, Mahjong: BIGINT, Management: BIGINT, Mars: BIGINT, `Martial Arts`: BIGINT, `Massively Multiplayer`: BIGINT, Masterpiece: BIGINT, `Match 3`: BIGINT, Mature: BIGINT, Mechs: BIGINT, `Medical Sim`: BIGINT, Medieval: BIGINT, Memes: BIGINT, Metroidvania: BIGINT, Military: BIGINT, `Mini Golf`: BIGINT, Minigames: BIGINT, Minimalist: BIGINT, Mining: BIGINT, Mod: BIGINT, Moddable: BIGINT, Modern: BIGINT, Motocross: BIGINT, Motorbike: BIGINT, `Mouse only`: BIGINT, Movie: BIGINT, Multiplayer: BIGINT, `Multiple Endings`: BIGINT, Music: BIGINT, `Music-Based Procedural Generation`: BIGINT, Musou: BIGINT, Mystery: BIGINT, `Mystery Dungeon`: BIGINT, Mythology: BIGINT, NSFW: BIGINT, Narration: BIGINT, Narrative: BIGINT, Nature: BIGINT, Naval: BIGINT, `Naval Combat`: BIGINT, Ninja: BIGINT, Noir: BIGINT, Nonlinear: BIGINT, Nostalgia: BIGINT, Nudity: BIGINT, Offroad: BIGINT, `Old School`: BIGINT, `On-Rails Shooter`: BIGINT, `Online Co-Op`: BIGINT, `Open World`: BIGINT, `Open World Survival Craft`: BIGINT, Otome: BIGINT, `Outbreak Sim`: BIGINT, Parkour: BIGINT, `Parody `: BIGINT, Party: BIGINT, `Party Game`: BIGINT, `Party-Based RPG`: BIGINT, `Perma Death`: BIGINT, Philosophical: BIGINT, `Photo Editing`: BIGINT, Physics: BIGINT, Pinball: BIGINT, Pirates: BIGINT, `Pixel Graphics`: BIGINT, Platformer: BIGINT, `Point & Click`: BIGINT, Political: BIGINT, `Political Sim`: BIGINT, Politics: BIGINT, Pool: BIGINT, `Post-apocalyptic`: BIGINT, `Precision Platformer`: BIGINT, `Procedural Generation`: BIGINT, Programming: BIGINT, Psychedelic: BIGINT, Psychological: BIGINT, `Psychological Horror`: BIGINT, Puzzle: BIGINT, `Puzzle-Platformer`: BIGINT, PvE: BIGINT, PvP: BIGINT, `Quick-Time Events`: BIGINT, RPG: BIGINT, RPGMaker: BIGINT, RTS: BIGINT, Racing: BIGINT, `Real Time Tactics`: BIGINT, `Real-Time`: BIGINT, `Real-Time with Pause`: BIGINT, Realistic: BIGINT, Reboot: BIGINT, Relaxing: BIGINT, Remake: BIGINT, `Replay Value`: BIGINT, `Resource Management`: BIGINT, Retro: BIGINT, Rhythm: BIGINT, Robots: BIGINT, `Rock Music`: BIGINT, `Rogue-like`: BIGINT, `Rogue-lite`: BIGINT, `Roguelike Deckbuilder`: BIGINT, Roguevania: BIGINT, Romance: BIGINT, Rome: BIGINT, Rugby: BIGINT, Runner: BIGINT, Sailing: BIGINT, Sandbox: BIGINT, Satire: BIGINT, `Sci-fi`: BIGINT, Science: BIGINT, `Score Attack`: BIGINT, Sequel: BIGINT, `Sexual Content`: BIGINT, `Shoot 'Em Up`: BIGINT, Shooter: BIGINT, `Shop Keeper`: BIGINT, Short: BIGINT, `Side Scroller`: BIGINT, `Silent Protagonist`: BIGINT, Simulation: BIGINT, Singleplayer: BIGINT, Skateboarding: BIGINT, Skating: BIGINT, Skiing: BIGINT, Sniper: BIGINT, Snooker: BIGINT, Snow: BIGINT, Snowboarding: BIGINT, Soccer: BIGINT, `Social Deduction`: BIGINT, Software: BIGINT, `Software Training`: BIGINT, Sokoban: BIGINT, Solitaire: BIGINT, `Souls-like`: BIGINT, Soundtrack: BIGINT, Space: BIGINT, `Space Sim`: BIGINT, Spaceships: BIGINT, `Spectacle fighter`: BIGINT, Spelling: BIGINT, `Split Screen`: BIGINT, Sports: BIGINT, Stealth: BIGINT, `Steam Machine`: BIGINT, Steampunk: BIGINT, `Story Rich`: BIGINT, Strategy: BIGINT, `Strategy RPG`: BIGINT, Stylized: BIGINT, Submarine: BIGINT, Superhero: BIGINT, Supernatural: BIGINT, Surreal: BIGINT, Survival: BIGINT, `Survival Horror`: BIGINT, Swordplay: BIGINT, Tabletop: BIGINT, Tactical: BIGINT, `Tactical RPG`: BIGINT, Tanks: BIGINT, `Team-Based`: BIGINT, Tennis: BIGINT, `Text-Based`: BIGINT, `Third Person`: BIGINT, `Third-Person Shooter`: BIGINT, Thriller: BIGINT, `Tile-Matching`: BIGINT, `Time Attack`: BIGINT, `Time Management`: BIGINT, `Time Manipulation`: BIGINT, `Time Travel`: BIGINT, `Top-Down`: BIGINT, `Top-Down Shooter`: BIGINT, `Touch-Friendly`: BIGINT, `Tower Defense`: BIGINT, TrackIR: BIGINT, Trading: BIGINT, `Trading Card Game`: BIGINT, `Traditional Roguelike`: BIGINT, Trains: BIGINT, Transhumanism: BIGINT, Transportation: BIGINT, Trivia: BIGINT, `Turn-Based`: BIGINT, `Turn-Based Combat`: BIGINT, `Turn-Based Strategy`: BIGINT, `Turn-Based Tactics`: BIGINT, Tutorial: BIGINT, `Twin Stick Shooter`: BIGINT, Typing: BIGINT, Underground: BIGINT, Underwater: BIGINT, Unforgiving: BIGINT, Utilities: BIGINT, VR: BIGINT, `VR Only`: BIGINT, Vampire: BIGINT, `Vehicular Combat`: BIGINT, `Video Production`: BIGINT, Vikings: BIGINT, `Villain Protagonist`: BIGINT, Violent: BIGINT, `Visual Novel`: BIGINT, `Voice Control`: BIGINT, Volleyball: BIGINT, Voxel: BIGINT, `Walking Simulator`: BIGINT, War: BIGINT, Wargame: BIGINT, `Warhammer 40K`: BIGINT, `Web Publishing`: BIGINT, `Well-Written`: BIGINT, Werewolves: BIGINT, Western: BIGINT, Wholesome: BIGINT, `Word Game`: BIGINT, `World War I`: BIGINT, `World War II`: BIGINT, Wrestling: BIGINT, Zombies: BIGINT, `e-sports`: BIGINT>, type: STRING, website: STRING>\" type.;\n'Project [data#4506, id#4507, explode(data#4506) AS test#4528]\n+- Relation [data#4506,id#4507] json\n",
       "errorTraceType": "ansi",
       "metadata": {},
       "type": "ipynbError"
      }
     },
     "output_type": "display_data"
    }
   ],
   "source": [
    "test_df = steam_json.withColumn('test', F.explode('data'))\n",
    "test_df.printSchema()\n",
    "test_df.show()"
   ]
  },
  {
   "cell_type": "code",
   "execution_count": 0,
   "metadata": {
    "application/vnd.databricks.v1+cell": {
     "cellMetadata": {
      "byteLimit": 2048000,
      "rowLimit": 10000
     },
     "inputWidgets": {},
     "nuid": "0f7744b5-ff59-4a7c-9e28-8a09cc84c5f5",
     "showTitle": false,
     "tableResultSettingsMap": {},
     "title": ""
    }
   },
   "outputs": [
    {
     "output_type": "stream",
     "name": "stdout",
     "output_type": "stream",
     "text": [
      "+--------------------+\n|                data|\n+--------------------+\n|{10, [Multi-playe...|\n+--------------------+\nonly showing top 1 row\n\n"
     ]
    }
   ],
   "source": [
    "steam_json.select(\"data\").show(1)"
   ]
  },
  {
   "cell_type": "code",
   "execution_count": 0,
   "metadata": {
    "application/vnd.databricks.v1+cell": {
     "cellMetadata": {
      "byteLimit": 2048000,
      "rowLimit": 10000
     },
     "inputWidgets": {},
     "nuid": "2864e97a-dc2e-4667-89ef-307ebf533200",
     "showTitle": false,
     "tableResultSettingsMap": {},
     "title": ""
    }
   },
   "outputs": [
    {
     "output_type": "stream",
     "name": "stdout",
     "output_type": "stream",
     "text": [
      "root\n |-- data: struct (nullable = true)\n |    |-- appid: long (nullable = true)\n |    |-- categories: array (nullable = true)\n |    |    |-- element: string (containsNull = true)\n |    |-- ccu: long (nullable = true)\n |    |-- developer: string (nullable = true)\n |    |-- discount: string (nullable = true)\n |    |-- genre: string (nullable = true)\n |    |-- header_image: string (nullable = true)\n |    |-- initialprice: string (nullable = true)\n |    |-- languages: string (nullable = true)\n |    |-- name: string (nullable = true)\n |    |-- negative: long (nullable = true)\n |    |-- owners: string (nullable = true)\n |    |-- platforms: struct (nullable = true)\n |    |    |-- linux: boolean (nullable = true)\n |    |    |-- mac: boolean (nullable = true)\n |    |    |-- windows: boolean (nullable = true)\n |    |-- positive: long (nullable = true)\n |    |-- price: string (nullable = true)\n |    |-- publisher: string (nullable = true)\n |    |-- release_date: string (nullable = true)\n |    |-- required_age: string (nullable = true)\n |    |-- short_description: string (nullable = true)\n |    |-- tags: struct (nullable = true)\n |    |    |-- 1980s: long (nullable = true)\n |    |    |-- 1990's: long (nullable = true)\n |    |    |-- 2.5D: long (nullable = true)\n |    |    |-- 2D: long (nullable = true)\n |    |    |-- 2D Fighter: long (nullable = true)\n |    |    |-- 2D Platformer: long (nullable = true)\n |    |    |-- 360 Video: long (nullable = true)\n |    |    |-- 3D: long (nullable = true)\n |    |    |-- 3D Fighter: long (nullable = true)\n |    |    |-- 3D Platformer: long (nullable = true)\n |    |    |-- 3D Vision: long (nullable = true)\n |    |    |-- 4 Player Local: long (nullable = true)\n |    |    |-- 4X: long (nullable = true)\n |    |    |-- 6DOF: long (nullable = true)\n |    |    |-- 8-bit Music: long (nullable = true)\n |    |    |-- ATV: long (nullable = true)\n |    |    |-- Abstract: long (nullable = true)\n |    |    |-- Action: long (nullable = true)\n |    |    |-- Action RPG: long (nullable = true)\n |    |    |-- Action RTS: long (nullable = true)\n |    |    |-- Action Roguelike: long (nullable = true)\n |    |    |-- Action-Adventure: long (nullable = true)\n |    |    |-- Addictive: long (nullable = true)\n |    |    |-- Adventure: long (nullable = true)\n |    |    |-- Agriculture: long (nullable = true)\n |    |    |-- Aliens: long (nullable = true)\n |    |    |-- Alternate History: long (nullable = true)\n |    |    |-- Ambient: long (nullable = true)\n |    |    |-- America: long (nullable = true)\n |    |    |-- Animation & Modeling: long (nullable = true)\n |    |    |-- Anime: long (nullable = true)\n |    |    |-- Arcade: long (nullable = true)\n |    |    |-- Archery: long (nullable = true)\n |    |    |-- Arena Shooter: long (nullable = true)\n |    |    |-- Artificial Intelligence: long (nullable = true)\n |    |    |-- Assassin: long (nullable = true)\n |    |    |-- Asymmetric VR: long (nullable = true)\n |    |    |-- Asynchronous Multiplayer: long (nullable = true)\n |    |    |-- Atmospheric: long (nullable = true)\n |    |    |-- Audio Production: long (nullable = true)\n |    |    |-- Auto Battler: long (nullable = true)\n |    |    |-- Automation: long (nullable = true)\n |    |    |-- Automobile Sim: long (nullable = true)\n |    |    |-- BMX: long (nullable = true)\n |    |    |-- Base-Building: long (nullable = true)\n |    |    |-- Baseball: long (nullable = true)\n |    |    |-- Based On A Novel: long (nullable = true)\n |    |    |-- Basketball: long (nullable = true)\n |    |    |-- Battle Royale: long (nullable = true)\n |    |    |-- Beat 'em up: long (nullable = true)\n |    |    |-- Beautiful: long (nullable = true)\n |    |    |-- Benchmark: long (nullable = true)\n |    |    |-- Bikes: long (nullable = true)\n |    |    |-- Blood: long (nullable = true)\n |    |    |-- Board Game: long (nullable = true)\n |    |    |-- Boss Rush: long (nullable = true)\n |    |    |-- Bowling: long (nullable = true)\n |    |    |-- Boxing: long (nullable = true)\n |    |    |-- Building: long (nullable = true)\n |    |    |-- Bullet Hell: long (nullable = true)\n |    |    |-- Bullet Time: long (nullable = true)\n |    |    |-- CRPG: long (nullable = true)\n |    |    |-- Capitalism: long (nullable = true)\n |    |    |-- Card Battler: long (nullable = true)\n |    |    |-- Card Game: long (nullable = true)\n |    |    |-- Cartoon: long (nullable = true)\n |    |    |-- Cartoony: long (nullable = true)\n |    |    |-- Casual: long (nullable = true)\n |    |    |-- Cats: long (nullable = true)\n |    |    |-- Character Action Game: long (nullable = true)\n |    |    |-- Character Customization: long (nullable = true)\n |    |    |-- Chess: long (nullable = true)\n |    |    |-- Choices Matter: long (nullable = true)\n |    |    |-- Choose Your Own Adventure: long (nullable = true)\n |    |    |-- Cinematic: long (nullable = true)\n |    |    |-- City Builder: long (nullable = true)\n |    |    |-- Class-Based: long (nullable = true)\n |    |    |-- Classic: long (nullable = true)\n |    |    |-- Clicker: long (nullable = true)\n |    |    |-- Co-op: long (nullable = true)\n |    |    |-- Co-op Campaign: long (nullable = true)\n |    |    |-- Coding: long (nullable = true)\n |    |    |-- Cold War: long (nullable = true)\n |    |    |-- Collectathon: long (nullable = true)\n |    |    |-- Colony Sim: long (nullable = true)\n |    |    |-- Colorful: long (nullable = true)\n |    |    |-- Combat: long (nullable = true)\n |    |    |-- Combat Racing: long (nullable = true)\n |    |    |-- Comedy: long (nullable = true)\n |    |    |-- Comic Book: long (nullable = true)\n |    |    |-- Competitive: long (nullable = true)\n |    |    |-- Conspiracy: long (nullable = true)\n |    |    |-- Controller: long (nullable = true)\n |    |    |-- Conversation: long (nullable = true)\n |    |    |-- Cooking: long (nullable = true)\n |    |    |-- Cozy: long (nullable = true)\n |    |    |-- Crafting: long (nullable = true)\n |    |    |-- Creature Collector: long (nullable = true)\n |    |    |-- Cricket: long (nullable = true)\n |    |    |-- Crime: long (nullable = true)\n |    |    |-- Crowdfunded: long (nullable = true)\n |    |    |-- Cult Classic: long (nullable = true)\n |    |    |-- Cute: long (nullable = true)\n |    |    |-- Cyberpunk: long (nullable = true)\n |    |    |-- Cycling: long (nullable = true)\n |    |    |-- Dark: long (nullable = true)\n |    |    |-- Dark Comedy: long (nullable = true)\n |    |    |-- Dark Fantasy: long (nullable = true)\n |    |    |-- Dark Humor: long (nullable = true)\n |    |    |-- Dating Sim: long (nullable = true)\n |    |    |-- Deckbuilding: long (nullable = true)\n |    |    |-- Demons: long (nullable = true)\n |    |    |-- Design & Illustration: long (nullable = true)\n |    |    |-- Destruction: long (nullable = true)\n |    |    |-- Detective: long (nullable = true)\n |    |    |-- Difficult: long (nullable = true)\n |    |    |-- Dinosaurs: long (nullable = true)\n |    |    |-- Diplomacy: long (nullable = true)\n |    |    |-- Documentary: long (nullable = true)\n |    |    |-- Dog: long (nullable = true)\n |    |    |-- Dragons: long (nullable = true)\n |    |    |-- Drama: long (nullable = true)\n |    |    |-- Driving: long (nullable = true)\n |    |    |-- Dungeon Crawler: long (nullable = true)\n |    |    |-- Dungeons & Dragons: long (nullable = true)\n |    |    |-- Dynamic Narration: long (nullable = true)\n |    |    |-- Dystopian : long (nullable = true)\n |    |    |-- Early Access: long (nullable = true)\n |    |    |-- Economy: long (nullable = true)\n |    |    |-- Education: long (nullable = true)\n |    |    |-- Electronic: long (nullable = true)\n |    |    |-- Electronic Music: long (nullable = true)\n |    |    |-- Emotional: long (nullable = true)\n |    |    |-- Epic: long (nullable = true)\n |    |    |-- Episodic: long (nullable = true)\n |    |    |-- Escape Room: long (nullable = true)\n |    |    |-- Experience: long (nullable = true)\n |    |    |-- Experimental: long (nullable = true)\n |    |    |-- Exploration: long (nullable = true)\n |    |    |-- FMV: long (nullable = true)\n |    |    |-- FPS: long (nullable = true)\n |    |    |-- Faith: long (nullable = true)\n |    |    |-- Family Friendly: long (nullable = true)\n |    |    |-- Fantasy: long (nullable = true)\n |    |    |-- Farming: long (nullable = true)\n |    |    |-- Farming Sim: long (nullable = true)\n |    |    |-- Fast-Paced: long (nullable = true)\n |    |    |-- Feature Film: long (nullable = true)\n |    |    |-- Female Protagonist: long (nullable = true)\n |    |    |-- Fighting: long (nullable = true)\n |    |    |-- First-Person: long (nullable = true)\n |    |    |-- Fishing: long (nullable = true)\n |    |    |-- Flight: long (nullable = true)\n |    |    |-- Football: long (nullable = true)\n |    |    |-- Foreign: long (nullable = true)\n |    |    |-- Free to Play: long (nullable = true)\n |    |    |-- Funny: long (nullable = true)\n |    |    |-- Futuristic: long (nullable = true)\n |    |    |-- Gambling: long (nullable = true)\n |    |    |-- Game Development: long (nullable = true)\n |    |    |-- GameMaker: long (nullable = true)\n |    |    |-- Games Workshop: long (nullable = true)\n |    |    |-- Gaming: long (nullable = true)\n |    |    |-- God Game: long (nullable = true)\n |    |    |-- Golf: long (nullable = true)\n |    |    |-- Gore: long (nullable = true)\n |    |    |-- Gothic: long (nullable = true)\n |    |    |-- Grand Strategy: long (nullable = true)\n |    |    |-- Great Soundtrack: long (nullable = true)\n |    |    |-- Grid-Based Movement: long (nullable = true)\n |    |    |-- Gun Customization: long (nullable = true)\n |    |    |-- Hack and Slash: long (nullable = true)\n |    |    |-- Hacking: long (nullable = true)\n |    |    |-- Hand-drawn: long (nullable = true)\n |    |    |-- Hardware: long (nullable = true)\n |    |    |-- Heist: long (nullable = true)\n |    |    |-- Hentai: long (nullable = true)\n |    |    |-- Hero Shooter: long (nullable = true)\n |    |    |-- Hex Grid: long (nullable = true)\n |    |    |-- Hidden Object: long (nullable = true)\n |    |    |-- Historical: long (nullable = true)\n |    |    |-- Hockey: long (nullable = true)\n |    |    |-- Horror: long (nullable = true)\n |    |    |-- Horses: long (nullable = true)\n |    |    |-- Hunting: long (nullable = true)\n |    |    |-- Idler: long (nullable = true)\n |    |    |-- Illuminati: long (nullable = true)\n |    |    |-- Immersive: long (nullable = true)\n |    |    |-- Immersive Sim: long (nullable = true)\n |    |    |-- Indie: long (nullable = true)\n |    |    |-- Instrumental Music: long (nullable = true)\n |    |    |-- Intentionally Awkward Controls: long (nullable = true)\n |    |    |-- Interactive Fiction: long (nullable = true)\n |    |    |-- Inventory Management: long (nullable = true)\n |    |    |-- Investigation: long (nullable = true)\n |    |    |-- Isometric: long (nullable = true)\n |    |    |-- JRPG: long (nullable = true)\n |    |    |-- Jet: long (nullable = true)\n |    |    |-- Job Simulator: long (nullable = true)\n |    |    |-- Jump Scare: long (nullable = true)\n |    |    |-- Kickstarter: long (nullable = true)\n |    |    |-- LEGO: long (nullable = true)\n |    |    |-- LGBTQ+: long (nullable = true)\n |    |    |-- Lemmings: long (nullable = true)\n |    |    |-- Level Editor: long (nullable = true)\n |    |    |-- Life Sim: long (nullable = true)\n |    |    |-- Linear: long (nullable = true)\n |    |    |-- Local Co-Op: long (nullable = true)\n |    |    |-- Local Multiplayer: long (nullable = true)\n |    |    |-- Logic: long (nullable = true)\n |    |    |-- Loot: long (nullable = true)\n |    |    |-- Looter Shooter: long (nullable = true)\n |    |    |-- Lore-Rich: long (nullable = true)\n |    |    |-- Lovecraftian: long (nullable = true)\n |    |    |-- MMORPG: long (nullable = true)\n |    |    |-- MOBA: long (nullable = true)\n |    |    |-- Magic: long (nullable = true)\n |    |    |-- Mahjong: long (nullable = true)\n |    |    |-- Management: long (nullable = true)\n |    |    |-- Mars: long (nullable = true)\n |    |    |-- Martial Arts: long (nullable = true)\n |    |    |-- Massively Multiplayer: long (nullable = true)\n |    |    |-- Masterpiece: long (nullable = true)\n |    |    |-- Match 3: long (nullable = true)\n |    |    |-- Mature: long (nullable = true)\n |    |    |-- Mechs: long (nullable = true)\n |    |    |-- Medical Sim: long (nullable = true)\n |    |    |-- Medieval: long (nullable = true)\n |    |    |-- Memes: long (nullable = true)\n |    |    |-- Metroidvania: long (nullable = true)\n |    |    |-- Military: long (nullable = true)\n |    |    |-- Mini Golf: long (nullable = true)\n |    |    |-- Minigames: long (nullable = true)\n |    |    |-- Minimalist: long (nullable = true)\n |    |    |-- Mining: long (nullable = true)\n |    |    |-- Mod: long (nullable = true)\n |    |    |-- Moddable: long (nullable = true)\n |    |    |-- Modern: long (nullable = true)\n |    |    |-- Motocross: long (nullable = true)\n |    |    |-- Motorbike: long (nullable = true)\n |    |    |-- Mouse only: long (nullable = true)\n |    |    |-- Movie: long (nullable = true)\n |    |    |-- Multiplayer: long (nullable = true)\n |    |    |-- Multiple Endings: long (nullable = true)\n |    |    |-- Music: long (nullable = true)\n |    |    |-- Music-Based Procedural Generation: long (nullable = true)\n |    |    |-- Musou: long (nullable = true)\n |    |    |-- Mystery: long (nullable = true)\n |    |    |-- Mystery Dungeon: long (nullable = true)\n |    |    |-- Mythology: long (nullable = true)\n |    |    |-- NSFW: long (nullable = true)\n |    |    |-- Narration: long (nullable = true)\n |    |    |-- Narrative: long (nullable = true)\n |    |    |-- Nature: long (nullable = true)\n |    |    |-- Naval: long (nullable = true)\n |    |    |-- Naval Combat: long (nullable = true)\n |    |    |-- Ninja: long (nullable = true)\n |    |    |-- Noir: long (nullable = true)\n |    |    |-- Nonlinear: long (nullable = true)\n |    |    |-- Nostalgia: long (nullable = true)\n |    |    |-- Nudity: long (nullable = true)\n |    |    |-- Offroad: long (nullable = true)\n |    |    |-- Old School: long (nullable = true)\n |    |    |-- On-Rails Shooter: long (nullable = true)\n |    |    |-- Online Co-Op: long (nullable = true)\n |    |    |-- Open World: long (nullable = true)\n |    |    |-- Open World Survival Craft: long (nullable = true)\n |    |    |-- Otome: long (nullable = true)\n |    |    |-- Outbreak Sim: long (nullable = true)\n |    |    |-- Parkour: long (nullable = true)\n |    |    |-- Parody : long (nullable = true)\n |    |    |-- Party: long (nullable = true)\n |    |    |-- Party Game: long (nullable = true)\n |    |    |-- Party-Based RPG: long (nullable = true)\n |    |    |-- Perma Death: long (nullable = true)\n |    |    |-- Philosophical: long (nullable = true)\n |    |    |-- Photo Editing: long (nullable = true)\n |    |    |-- Physics: long (nullable = true)\n |    |    |-- Pinball: long (nullable = true)\n |    |    |-- Pirates: long (nullable = true)\n |    |    |-- Pixel Graphics: long (nullable = true)\n |    |    |-- Platformer: long (nullable = true)\n |    |    |-- Point & Click: long (nullable = true)\n |    |    |-- Political: long (nullable = true)\n |    |    |-- Political Sim: long (nullable = true)\n |    |    |-- Politics: long (nullable = true)\n |    |    |-- Pool: long (nullable = true)\n |    |    |-- Post-apocalyptic: long (nullable = true)\n |    |    |-- Precision Platformer: long (nullable = true)\n |    |    |-- Procedural Generation: long (nullable = true)\n |    |    |-- Programming: long (nullable = true)\n |    |    |-- Psychedelic: long (nullable = true)\n |    |    |-- Psychological: long (nullable = true)\n |    |    |-- Psychological Horror: long (nullable = true)\n |    |    |-- Puzzle: long (nullable = true)\n |    |    |-- Puzzle-Platformer: long (nullable = true)\n |    |    |-- PvE: long (nullable = true)\n |    |    |-- PvP: long (nullable = true)\n |    |    |-- Quick-Time Events: long (nullable = true)\n |    |    |-- RPG: long (nullable = true)\n |    |    |-- RPGMaker: long (nullable = true)\n |    |    |-- RTS: long (nullable = true)\n |    |    |-- Racing: long (nullable = true)\n |    |    |-- Real Time Tactics: long (nullable = true)\n |    |    |-- Real-Time: long (nullable = true)\n |    |    |-- Real-Time with Pause: long (nullable = true)\n |    |    |-- Realistic: long (nullable = true)\n |    |    |-- Reboot: long (nullable = true)\n |    |    |-- Relaxing: long (nullable = true)\n |    |    |-- Remake: long (nullable = true)\n |    |    |-- Replay Value: long (nullable = true)\n |    |    |-- Resource Management: long (nullable = true)\n |    |    |-- Retro: long (nullable = true)\n |    |    |-- Rhythm: long (nullable = true)\n |    |    |-- Robots: long (nullable = true)\n |    |    |-- Rock Music: long (nullable = true)\n |    |    |-- Rogue-like: long (nullable = true)\n |    |    |-- Rogue-lite: long (nullable = true)\n |    |    |-- Roguelike Deckbuilder: long (nullable = true)\n |    |    |-- Roguevania: long (nullable = true)\n |    |    |-- Romance: long (nullable = true)\n |    |    |-- Rome: long (nullable = true)\n |    |    |-- Rugby: long (nullable = true)\n |    |    |-- Runner: long (nullable = true)\n |    |    |-- Sailing: long (nullable = true)\n |    |    |-- Sandbox: long (nullable = true)\n |    |    |-- Satire: long (nullable = true)\n |    |    |-- Sci-fi: long (nullable = true)\n |    |    |-- Science: long (nullable = true)\n |    |    |-- Score Attack: long (nullable = true)\n |    |    |-- Sequel: long (nullable = true)\n |    |    |-- Sexual Content: long (nullable = true)\n |    |    |-- Shoot 'Em Up: long (nullable = true)\n |    |    |-- Shooter: long (nullable = true)\n |    |    |-- Shop Keeper: long (nullable = true)\n |    |    |-- Short: long (nullable = true)\n |    |    |-- Side Scroller: long (nullable = true)\n |    |    |-- Silent Protagonist: long (nullable = true)\n |    |    |-- Simulation: long (nullable = true)\n |    |    |-- Singleplayer: long (nullable = true)\n |    |    |-- Skateboarding: long (nullable = true)\n |    |    |-- Skating: long (nullable = true)\n |    |    |-- Skiing: long (nullable = true)\n |    |    |-- Sniper: long (nullable = true)\n |    |    |-- Snooker: long (nullable = true)\n |    |    |-- Snow: long (nullable = true)\n |    |    |-- Snowboarding: long (nullable = true)\n |    |    |-- Soccer: long (nullable = true)\n |    |    |-- Social Deduction: long (nullable = true)\n |    |    |-- Software: long (nullable = true)\n |    |    |-- Software Training: long (nullable = true)\n |    |    |-- Sokoban: long (nullable = true)\n |    |    |-- Solitaire: long (nullable = true)\n |    |    |-- Souls-like: long (nullable = true)\n |    |    |-- Soundtrack: long (nullable = true)\n |    |    |-- Space: long (nullable = true)\n |    |    |-- Space Sim: long (nullable = true)\n |    |    |-- Spaceships: long (nullable = true)\n |    |    |-- Spectacle fighter: long (nullable = true)\n |    |    |-- Spelling: long (nullable = true)\n |    |    |-- Split Screen: long (nullable = true)\n |    |    |-- Sports: long (nullable = true)\n |    |    |-- Stealth: long (nullable = true)\n |    |    |-- Steam Machine: long (nullable = true)\n |    |    |-- Steampunk: long (nullable = true)\n |    |    |-- Story Rich: long (nullable = true)\n |    |    |-- Strategy: long (nullable = true)\n |    |    |-- Strategy RPG: long (nullable = true)\n |    |    |-- Stylized: long (nullable = true)\n |    |    |-- Submarine: long (nullable = true)\n |    |    |-- Superhero: long (nullable = true)\n |    |    |-- Supernatural: long (nullable = true)\n |    |    |-- Surreal: long (nullable = true)\n |    |    |-- Survival: long (nullable = true)\n |    |    |-- Survival Horror: long (nullable = true)\n |    |    |-- Swordplay: long (nullable = true)\n |    |    |-- Tabletop: long (nullable = true)\n |    |    |-- Tactical: long (nullable = true)\n |    |    |-- Tactical RPG: long (nullable = true)\n |    |    |-- Tanks: long (nullable = true)\n |    |    |-- Team-Based: long (nullable = true)\n |    |    |-- Tennis: long (nullable = true)\n |    |    |-- Text-Based: long (nullable = true)\n |    |    |-- Third Person: long (nullable = true)\n |    |    |-- Third-Person Shooter: long (nullable = true)\n |    |    |-- Thriller: long (nullable = true)\n |    |    |-- Tile-Matching: long (nullable = true)\n |    |    |-- Time Attack: long (nullable = true)\n |    |    |-- Time Management: long (nullable = true)\n |    |    |-- Time Manipulation: long (nullable = true)\n |    |    |-- Time Travel: long (nullable = true)\n |    |    |-- Top-Down: long (nullable = true)\n |    |    |-- Top-Down Shooter: long (nullable = true)\n |    |    |-- Touch-Friendly: long (nullable = true)\n |    |    |-- Tower Defense: long (nullable = true)\n |    |    |-- TrackIR: long (nullable = true)\n |    |    |-- Trading: long (nullable = true)\n |    |    |-- Trading Card Game: long (nullable = true)\n |    |    |-- Traditional Roguelike: long (nullable = true)\n |    |    |-- Trains: long (nullable = true)\n |    |    |-- Transhumanism: long (nullable = true)\n |    |    |-- Transportation: long (nullable = true)\n |    |    |-- Trivia: long (nullable = true)\n |    |    |-- Turn-Based: long (nullable = true)\n |    |    |-- Turn-Based Combat: long (nullable = true)\n |    |    |-- Turn-Based Strategy: long (nullable = true)\n |    |    |-- Turn-Based Tactics: long (nullable = true)\n |    |    |-- Tutorial: long (nullable = true)\n |    |    |-- Twin Stick Shooter: long (nullable = true)\n |    |    |-- Typing: long (nullable = true)\n |    |    |-- Underground: long (nullable = true)\n |    |    |-- Underwater: long (nullable = true)\n |    |    |-- Unforgiving: long (nullable = true)\n |    |    |-- Utilities: long (nullable = true)\n |    |    |-- VR: long (nullable = true)\n |    |    |-- VR Only: long (nullable = true)\n |    |    |-- Vampire: long (nullable = true)\n |    |    |-- Vehicular Combat: long (nullable = true)\n |    |    |-- Video Production: long (nullable = true)\n |    |    |-- Vikings: long (nullable = true)\n |    |    |-- Villain Protagonist: long (nullable = true)\n |    |    |-- Violent: long (nullable = true)\n |    |    |-- Visual Novel: long (nullable = true)\n |    |    |-- Voice Control: long (nullable = true)\n |    |    |-- Volleyball: long (nullable = true)\n |    |    |-- Voxel: long (nullable = true)\n |    |    |-- Walking Simulator: long (nullable = true)\n |    |    |-- War: long (nullable = true)\n |    |    |-- Wargame: long (nullable = true)\n |    |    |-- Warhammer 40K: long (nullable = true)\n |    |    |-- Web Publishing: long (nullable = true)\n |    |    |-- Well-Written: long (nullable = true)\n |    |    |-- Werewolves: long (nullable = true)\n |    |    |-- Western: long (nullable = true)\n |    |    |-- Wholesome: long (nullable = true)\n |    |    |-- Word Game: long (nullable = true)\n |    |    |-- World War I: long (nullable = true)\n |    |    |-- World War II: long (nullable = true)\n |    |    |-- Wrestling: long (nullable = true)\n |    |    |-- Zombies: long (nullable = true)\n |    |    |-- e-sports: long (nullable = true)\n |    |-- type: string (nullable = true)\n |    |-- website: string (nullable = true)\n |-- id: string (nullable = true)\n\n"
     ]
    }
   ],
   "source": [
    "steam_rdd.printSchema()"
   ]
  },
  {
   "cell_type": "code",
   "execution_count": 0,
   "metadata": {
    "application/vnd.databricks.v1+cell": {
     "cellMetadata": {
      "byteLimit": 2048000,
      "rowLimit": 10000
     },
     "inputWidgets": {},
     "nuid": "79d20a0b-489e-4165-a743-368ebc98d91d",
     "showTitle": false,
     "tableResultSettingsMap": {},
     "title": ""
    }
   },
   "outputs": [
    {
     "output_type": "stream",
     "name": "stdout",
     "output_type": "stream",
     "text": [
      "Out[14]: pyspark.rdd.RDD"
     ]
    }
   ],
   "source": [
    "users = [\n",
    "    {'id': 1, 'name': 'George', 'orders': [\n",
    "        {'id': 1, 'value': 55.1},\n",
    "        {'id': 2, 'value': 78.31},\n",
    "        {'id': 4, 'value': 52.13}\n",
    "    ]},\n",
    "    {'id': 2, 'name': 'Hughes', 'orders': [\n",
    "        {'id': 3, 'value': 31.19},\n",
    "        {'id': 5, 'value': 131.1}\n",
    "    ]}\n",
    "]\n",
    "users_rdd = sc.parallelize(users)\n",
    "\n",
    "schema = StructType([\n",
    "    StructField('id', IntegerType(), True),\n",
    "    StructField('name', StringType(), True),\n",
    "    StructField('orders', ArrayType(\n",
    "        StructType([\n",
    "            StructField('id', IntegerType(), True),\n",
    "            StructField('value', FloatType(), True)\n",
    "        ])\n",
    "    ), True)\n",
    "])\n",
    "\n",
    "users_df = spark.createDataFrame(users_rdd, schema=schema)\n",
    "users_df.printSchema()\n",
    "users_df.show()"
   ]
  }
 ],
 "metadata": {
  "application/vnd.databricks.v1+notebook": {
   "computePreferences": null,
   "dashboards": [],
   "environmentMetadata": null,
   "language": "python",
   "notebookMetadata": {
    "pythonIndentUnit": 2
   },
   "notebookName": "Steam",
   "widgets": {}
  }
 },
 "nbformat": 4,
 "nbformat_minor": 0
}
